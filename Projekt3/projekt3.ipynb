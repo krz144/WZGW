{
 "cells": [
  {
   "cell_type": "code",
   "execution_count": 471,
   "id": "d4864331",
   "metadata": {},
   "outputs": [],
   "source": [
    "import numpy as np"
   ]
  },
  {
   "cell_type": "code",
   "execution_count": 472,
   "id": "6d260c9d",
   "metadata": {},
   "outputs": [],
   "source": [
    "def get_N(fi: float, a=6378137, e2=0.00669437999013):\n",
    "    \"\"\"fi w stopniach. Zwraca promień przekroju poprzecznego (pierwszego wertykału)\"\"\"\n",
    "    fi = np.deg2rad(fi)\n",
    "    N = a / np.sqrt(1 - e2 * np.sin(fi) ** 2)\n",
    "    return N \n",
    "\n",
    "def get_M(fi: float, a=6378137, e2=0.00669437999013):\n",
    "    \"\"\"fi w stopniach. Zwraca promień przekroju podłużnego (południkowego)\"\"\"\n",
    "    fi = np.deg2rad(fi)\n",
    "    M = (a*(1-e2)) / ( (1 - e2 * np.sin(fi) ** 2) ** 1.5 )\n",
    "    return M\n",
    "\n",
    "def get_c(fi: float, az: float, a=6378137, e2=0.00669437999013):\n",
    "    \"\"\"fi, az w stopniach. Zwraca stałą Clairuta dla linii geodezyjnej\"\"\"\n",
    "    fi = np.deg2rad(fi)\n",
    "    az = np.deg2rad(az)\n",
    "    N = get_N(fi, a, e2)\n",
    "    c = N * np.cos(fi) * np.sin(az)\n",
    "    return c\n",
    "\n",
    "def get_n_and_ds(s):\n",
    "    \"\"\"s w metrach. Zwraca ilość podziałów ortodromy n i delta s pojedynczego odc. Krotka. Useful in Kivioj's algo\"\"\"\n",
    "    # dobre ds to mniej wiecej 1km - 1.5km. Im mniejsze, tym lepsze (ale z umiarem - błędy numeryczne)\n",
    "    n_float = s/1000\n",
    "    n_int = np.ceil(n_float)\n",
    "    ds = s/n_int\n",
    "    return (n_int, ds)\n",
    "\n",
    "def kivioj(fi: float, lam: float, az: float, s, a=6378137, e2=0.00669437999013):\n",
    "    \"\"\"fi, lam, az w stopniach. s w metrach. Zwraca wsp(fi, lam) punktu oddalonego o s,  biorąc azymut pocz az.\n",
    "    wszystkie zwracane wartości w stopniach. Zwracany Azymut to przedłużenie linii geodezyjnej, a nie az odwrotny!\"\"\"\n",
    "    org_fi = np.deg2rad(fi)\n",
    "    org_lam = np.deg2rad(lam)\n",
    "    org_az = np.deg2rad(az)\n",
    "    fi = org_fi\n",
    "    lam = org_lam\n",
    "    az = org_az\n",
    "    n, ds = get_n_and_ds(s)\n",
    "    \n",
    "    # KTÓRE AZ I FI SĄ ZAWSZE POCZĄTKOWE, A KTÓRE ZMIENNE W ITERACJACH ???????????\n",
    "    for i in range(0, int(n)):  # n - 1\n",
    "        d_fi = (ds*np.cos(az)) / get_M(np.rad2deg(fi))\n",
    "        d_az = ds*np.sin(org_az)*np.tan(fi) / get_N(np.rad2deg(fi))\n",
    "        \n",
    "        sr_fi = fi + 0.5*d_fi\n",
    "        sr_az = az + 0.5*d_az\n",
    "        \n",
    "        # TUTAJ ds to nadal całe ds, czy tylko połowa ??????????\n",
    "        d_fi = (ds*np.cos(sr_az)) / get_M(np.rad2deg(sr_fi))\n",
    "        d_az = ds*np.sin(sr_az)*np.tan(sr_fi) / get_N(np.rad2deg(sr_fi))\n",
    "        d_lam = (ds*np.sin(sr_az)) / (get_N(np.rad2deg(sr_fi)) * np.cos(sr_fi))\n",
    "        \n",
    "        fi += d_fi\n",
    "        lam += d_lam\n",
    "        az += d_az\n",
    "        \n",
    "    fi = np.rad2deg(fi)\n",
    "    lam = np.rad2deg(lam)\n",
    "    az = np.rad2deg(az)\n",
    "    pkt_K = (fi, lam, az)\n",
    "    return pkt_K \n"
   ]
  },
  {
   "cell_type": "code",
   "execution_count": 473,
   "id": "b01b97c7",
   "metadata": {},
   "outputs": [],
   "source": [
    "# from __future__ import division\n",
    "from math import atan\n",
    "from math import atan2\n",
    "from math import cos\n",
    "from math import radians\n",
    "from math import sin\n",
    "from math import sqrt\n",
    "from math import tan\n",
    "\n",
    "\n",
    "def vincenty(coord1,coord2,maxIter=2000,tol=10**-12):\n",
    "    \"\"\"współrzędne dwóch punktów fi, lamba w stopniach. Zwriaca odległość między punktami i azymuty miedzy nimi\"\"\"\n",
    "    a=6378137.0  # WGS-84\n",
    "#     f=1/298.257223563  # WGS-84\n",
    "    f = 0.003352810681183637418\n",
    "    b=(1-f)*a\n",
    "    phi_1,L_1,=coord1\n",
    "    phi_2,L_2,=coord2\n",
    "\n",
    "    u_1=atan((1-f)*tan(radians(phi_1)))\n",
    "    u_2=atan((1-f)*tan(radians(phi_2)))\n",
    "\n",
    "    L=radians(L_2-L_1)\n",
    "\n",
    "    Lambda=L  # set initial value of lambda to L\n",
    "\n",
    "    sin_u1=sin(u_1)\n",
    "    cos_u1=cos(u_1)\n",
    "    sin_u2=sin(u_2)\n",
    "    cos_u2=cos(u_2)\n",
    "\n",
    "    for i in range(0,maxIter):\n",
    "\n",
    "        cos_lambda=cos(Lambda)\n",
    "        sin_lambda=sin(Lambda)\n",
    "        sin_sigma=sqrt((cos_u2*sin(Lambda))**2+(cos_u1*sin_u2-sin_u1*cos_u2*cos_lambda)**2)\n",
    "        cos_sigma=sin_u1*sin_u2+cos_u1*cos_u2*cos_lambda\n",
    "        sigma=atan2(sin_sigma,cos_sigma)\n",
    "        sin_alpha=(cos_u1*cos_u2*sin_lambda)/sin_sigma\n",
    "        cos_sq_alpha=1-sin_alpha**2\n",
    "        cos2_sigma_m=cos_sigma-((2*sin_u1*sin_u2)/cos_sq_alpha)\n",
    "        C=(f/16)*cos_sq_alpha*(4+f*(4-3*cos_sq_alpha))\n",
    "        Lambda_prev=Lambda\n",
    "        Lambda=L+(1-C)*f*sin_alpha*(sigma+C*sin_sigma*(cos2_sigma_m+C*cos_sigma*(-1+2*cos2_sigma_m**2)))\n",
    "\n",
    "        # successful convergence\n",
    "        diff=abs(Lambda_prev-Lambda)\n",
    "        if diff<=tol:\n",
    "            break\n",
    "\n",
    "    u_sq=cos_sq_alpha*((a**2-b**2)/b**2)\n",
    "    A=1+(u_sq/16384)*(4096+u_sq*(-768+u_sq*(320-175*u_sq)))\n",
    "    B=(u_sq/1024)*(256+u_sq*(-128+u_sq*(74-47*u_sq)))\n",
    "    delta_sig=B*sin_sigma*(cos2_sigma_m+0.25*B*(cos_sigma*(-1+2*cos2_sigma_m**2)-(1/6)*B*cos2_sigma_m*(-3+4*sin_sigma**2)*(-3+4*cos2_sigma_m**2)))\n",
    "\n",
    "    m=b*A*(sigma-delta_sig)  # output distance in meters    \n",
    "    \n",
    "    # a1\n",
    "    a1_num = cos_u2*sin(Lambda)\n",
    "    a1_denom = (cos_u1*sin_u2) - (sin_u1*cos_u2*cos(Lambda))\n",
    "    if (a1_num > 0 and a1_denom > 0):\n",
    "        a1 = atan(a1_num/a1_denom)\n",
    "    elif (a1_num > 0 and a1_denom < 0):\n",
    "        a1 = atan(a1_num/a1_denom) + np.pi  # + 2*np.pi\n",
    "    elif (a1_num < 0 and a1_denom < 0):\n",
    "        a1 = atan(a1_num/a1_denom) + np.pi\n",
    "    else:\n",
    "        a1 = atan(a1_num/a1_denom) + 2*np.pi  # + np.pi\n",
    "#     a1 = atan(a1_num/a1_denom)\n",
    "    \n",
    "    \n",
    "    # a2\n",
    "    a2_num = cos_u1*sin(Lambda)\n",
    "    a2_denom = (sin_u2*cos_u1*cos(Lambda)) - (cos_u2*sin_u1)\n",
    "    if (a2_num > 0 and a2_denom > 0):\n",
    "        a2 = atan(a2_num/a2_denom) + np.pi\n",
    "    elif (a2_num > 0 and a2_denom < 0):\n",
    "        a2 = atan(a2_num/a2_denom) + 2*np.pi  #  + 2*np.pi\n",
    "    elif (a2_num < 0 and a2_denom < 0):\n",
    "        a2 = atan(a2_num/a2_denom) + 2*np.pi\n",
    "    else:\n",
    "        a2 = atan(a2_num/a2_denom) + 3*np.pi  # + np.pi\n",
    "        \n",
    "    \n",
    "    if a2<0:\n",
    "        a2 = 2*np.pi-a2\n",
    "    if a1<0:\n",
    "        a1 = 2*np.pi-a1\n",
    "        \n",
    "    if a2 > 2*np.pi:\n",
    "        a2 -= 2*np.pi\n",
    "    if a1 > 2*np.pi:\n",
    "        a1 -= 2*np.pi\n",
    "    \n",
    "    a1 = np.rad2deg(a1)\n",
    "    a2 = np.rad2deg(a2)\n",
    "    return (m, a1, a2)"
   ]
  },
  {
   "cell_type": "code",
   "execution_count": 474,
   "id": "b2eb496a",
   "metadata": {},
   "outputs": [
    {
     "data": {
      "text/plain": [
       "6378137.0"
      ]
     },
     "execution_count": 474,
     "metadata": {},
     "output_type": "execute_result"
    }
   ],
   "source": [
    "get_N(0)"
   ]
  },
  {
   "cell_type": "code",
   "execution_count": 475,
   "id": "c2bfb4b8",
   "metadata": {},
   "outputs": [
    {
     "data": {
      "text/plain": [
       "6335439.327292892"
      ]
     },
     "execution_count": 475,
     "metadata": {},
     "output_type": "execute_result"
    }
   ],
   "source": [
    "get_M(0)"
   ]
  },
  {
   "cell_type": "code",
   "execution_count": 476,
   "id": "b4eb5956",
   "metadata": {},
   "outputs": [
    {
     "data": {
      "text/plain": [
       "6378137.0"
      ]
     },
     "execution_count": 476,
     "metadata": {},
     "output_type": "execute_result"
    }
   ],
   "source": [
    "get_c(0, 90)"
   ]
  },
  {
   "cell_type": "code",
   "execution_count": 477,
   "id": "2f79f4a2",
   "metadata": {},
   "outputs": [
    {
     "data": {
      "text/plain": [
       "1.3962634015954636"
      ]
     },
     "execution_count": 477,
     "metadata": {},
     "output_type": "execute_result"
    }
   ],
   "source": [
    "np.deg2rad(80)\n"
   ]
  },
  {
   "cell_type": "code",
   "execution_count": 478,
   "id": "cc81129e",
   "metadata": {},
   "outputs": [
    {
     "data": {
      "text/plain": [
       "80.0"
      ]
     },
     "execution_count": 478,
     "metadata": {},
     "output_type": "execute_result"
    }
   ],
   "source": [
    "np.rad2deg(1.3962634015954636)"
   ]
  },
  {
   "cell_type": "code",
   "execution_count": 479,
   "id": "149ecf40",
   "metadata": {},
   "outputs": [
    {
     "data": {
      "text/plain": [
       "(1.0476454796971385e-14, 169.94812602061478, 90.0)"
      ]
     },
     "execution_count": 479,
     "metadata": {},
     "output_type": "execute_result"
    }
   ],
   "source": [
    "kivioj(0, 0, 90, 18918538.849887617)"
   ]
  },
  {
   "cell_type": "code",
   "execution_count": 480,
   "id": "dc124e4b",
   "metadata": {},
   "outputs": [
    {
     "data": {
      "text/plain": [
       "(45.09684653555572, 89.86840958013579, 90.05810325055786)"
      ]
     },
     "execution_count": 480,
     "metadata": {},
     "output_type": "execute_result"
    }
   ],
   "source": [
    "kivioj(0, 0, 45, 10000000)"
   ]
  },
  {
   "cell_type": "code",
   "execution_count": null,
   "id": "4792259e",
   "metadata": {},
   "outputs": [],
   "source": [
    "\n"
   ]
  },
  {
   "cell_type": "code",
   "execution_count": 481,
   "id": "00f2492d",
   "metadata": {},
   "outputs": [
    {
     "data": {
      "text/plain": [
       "(18918538.849886164, 83.94007440367064, 275.9777084210336)"
      ]
     },
     "execution_count": 481,
     "metadata": {},
     "output_type": "execute_result"
    }
   ],
   "source": [
    "vincenty([0,0], [1, 170])"
   ]
  },
  {
   "cell_type": "code",
   "execution_count": 482,
   "id": "366fe01d",
   "metadata": {},
   "outputs": [
    {
     "data": {
      "text/plain": [
       "(10000000.007606909, 44.999336397196856, 270.0578604623136)"
      ]
     },
     "execution_count": 482,
     "metadata": {},
     "output_type": "execute_result"
    }
   ],
   "source": [
    "vincenty([0,0], [45.09684653555579, 89.86840958013579])"
   ]
  },
  {
   "cell_type": "code",
   "execution_count": 483,
   "id": "bf01914c",
   "metadata": {},
   "outputs": [
    {
     "data": {
      "text/plain": [
       "(110574.3885543136, 360.0, 180.0)"
      ]
     },
     "execution_count": 483,
     "metadata": {},
     "output_type": "execute_result"
    }
   ],
   "source": [
    "vincenty([0,0], [-1, 0])"
   ]
  },
  {
   "cell_type": "code",
   "execution_count": 484,
   "id": "3d50990f",
   "metadata": {},
   "outputs": [
    {
     "data": {
      "text/plain": [
       "(741928.3587548013, 59.327404677308195, 247.37596423929293)"
      ]
     },
     "execution_count": 484,
     "metadata": {},
     "output_type": "execute_result"
    }
   ],
   "source": [
    "vincenty([52,21], [55, 31])"
   ]
  },
  {
   "cell_type": "code",
   "execution_count": 485,
   "id": "d7f4f2a0",
   "metadata": {},
   "outputs": [
    {
     "data": {
      "text/plain": [
       "(55.00002124349137, 30.99998465709942, 67.3759525715011)"
      ]
     },
     "execution_count": 485,
     "metadata": {},
     "output_type": "execute_result"
    }
   ],
   "source": [
    "kivioj(52,21,59.32740467703917,741928.3587486794)"
   ]
  },
  {
   "cell_type": "markdown",
   "id": "3c12d800",
   "metadata": {},
   "source": [
    "# Testy"
   ]
  },
  {
   "cell_type": "code",
   "execution_count": 486,
   "id": "3f3e8d8a",
   "metadata": {},
   "outputs": [],
   "source": [
    "# A = {'fi': 50.25, 'lam': 20.75}\n",
    "# D = {'fi': 50, 'lam': 21.25}\n",
    "A = [50.25, 20.75]\n",
    "D = [50, 21.25]"
   ]
  },
  {
   "cell_type": "code",
   "execution_count": 487,
   "id": "f915c56a",
   "metadata": {},
   "outputs": [
    {
     "data": {
      "text/plain": [
       "(45295.37417148556, 127.68147015656345, 308.065194557125)"
      ]
     },
     "execution_count": 487,
     "metadata": {},
     "output_type": "execute_result"
    }
   ],
   "source": [
    "vincenty(A, D)"
   ]
  },
  {
   "cell_type": "code",
   "execution_count": 488,
   "id": "34debb96",
   "metadata": {},
   "outputs": [
    {
     "data": {
      "text/plain": [
       "(624561.4226784671, 44.64729172941168, 225.20454837343405)"
      ]
     },
     "execution_count": 488,
     "metadata": {},
     "output_type": "execute_result"
    }
   ],
   "source": [
    "x = [6,6]\n",
    "y = [10,10]\n",
    "vincenty(x, y)"
   ]
  },
  {
   "cell_type": "markdown",
   "id": "94b4c76a",
   "metadata": {},
   "source": [
    "# Zadanie"
   ]
  },
  {
   "cell_type": "code",
   "execution_count": 489,
   "id": "4dc93e54",
   "metadata": {},
   "outputs": [],
   "source": [
    "A = [50.25, 20.75]\n",
    "D = [50, 21.25]"
   ]
  },
  {
   "cell_type": "markdown",
   "id": "55f72c1a",
   "metadata": {},
   "source": [
    "## 1. Wyznaczyć punkt średniej szerokości  "
   ]
  },
  {
   "cell_type": "code",
   "execution_count": 490,
   "id": "d42055aa",
   "metadata": {},
   "outputs": [],
   "source": [
    "p_sredniej_szer = ((A[0]+D[0])/2, (A[1]+D[1])/2)"
   ]
  },
  {
   "cell_type": "code",
   "execution_count": 491,
   "id": "345ae172",
   "metadata": {},
   "outputs": [
    {
     "data": {
      "text/plain": [
       "(50.125, 21.0)"
      ]
     },
     "execution_count": 491,
     "metadata": {},
     "output_type": "execute_result"
    }
   ],
   "source": [
    "p_sredniej_szer"
   ]
  },
  {
   "cell_type": "markdown",
   "id": "9fa159d7",
   "metadata": {},
   "source": [
    "## 2. Wyznaczyć punkt środkowy przy użyciu algorytmu Vincentego i Kivioji "
   ]
  },
  {
   "cell_type": "code",
   "execution_count": 492,
   "id": "ffa35885",
   "metadata": {},
   "outputs": [],
   "source": [
    "odl_AD, az_AD, az_DA = vincenty(A, D)"
   ]
  },
  {
   "cell_type": "code",
   "execution_count": 493,
   "id": "c7ba74e9",
   "metadata": {},
   "outputs": [
    {
     "data": {
      "text/plain": [
       "(45295.37417148556, 127.68147015656345)"
      ]
     },
     "execution_count": 493,
     "metadata": {},
     "output_type": "execute_result"
    }
   ],
   "source": [
    "odl_AD, az_AD"
   ]
  },
  {
   "cell_type": "code",
   "execution_count": 494,
   "id": "ec1a3226",
   "metadata": {},
   "outputs": [],
   "source": [
    "p_srodkowy = kivioj(fi=A[0], lam=A[1], s=odl_AD/2, az=az_AD)[:2]"
   ]
  },
  {
   "cell_type": "code",
   "execution_count": 495,
   "id": "6f9f1d48",
   "metadata": {},
   "outputs": [
    {
     "data": {
      "text/plain": [
       "(50.125270434405216, 21.000651071143853)"
      ]
     },
     "execution_count": 495,
     "metadata": {},
     "output_type": "execute_result"
    }
   ],
   "source": [
    "p_srodkowy"
   ]
  },
  {
   "cell_type": "markdown",
   "id": "253f2695",
   "metadata": {},
   "source": [
    "## 3. Wyznaczyć różnicę odległości pomiędzy tymi punktami "
   ]
  },
  {
   "cell_type": "code",
   "execution_count": 496,
   "id": "d5bcfc21",
   "metadata": {},
   "outputs": [],
   "source": [
    "odl, az1, az2 = vincenty(p_sredniej_szer, p_srodkowy)"
   ]
  },
  {
   "cell_type": "code",
   "execution_count": 497,
   "id": "b5028d03",
   "metadata": {},
   "outputs": [
    {
     "data": {
      "text/plain": [
       "55.42996503560072"
      ]
     },
     "execution_count": 497,
     "metadata": {},
     "output_type": "execute_result"
    }
   ],
   "source": [
    "odl"
   ]
  },
  {
   "cell_type": "markdown",
   "id": "507d9786",
   "metadata": {},
   "source": [
    "## 4. Wyznaczyć azymuty w tych punktach."
   ]
  },
  {
   "cell_type": "code",
   "execution_count": 498,
   "id": "5a1af124",
   "metadata": {},
   "outputs": [
    {
     "data": {
      "text/plain": [
       "(57.133381378788236, 237.13388104114014)"
      ]
     },
     "execution_count": 498,
     "metadata": {},
     "output_type": "execute_result"
    }
   ],
   "source": [
    "az1, az2"
   ]
  },
  {
   "cell_type": "markdown",
   "id": "a2d6b2ac",
   "metadata": {},
   "source": [
    "## 5. Obliczyć pole powierzchni tego czworokąta wedle wzoru:\n",
    "<br />\n",
    "<img src=\"wzor_pole.png\" width=400 height=400 />"
   ]
  },
  {
   "cell_type": "code",
   "execution_count": 499,
   "id": "d6254bf3",
   "metadata": {},
   "outputs": [],
   "source": [
    "def pole(fi1, lam1, fi2, lam2, e2=0.00669437999013, b=6356752.314140347):\n",
    "    e = np.sqrt(e2)\n",
    "#     e = 2.718281\n",
    "    lam1 = np.deg2rad(lam1)\n",
    "    lam2 = np.deg2rad(lam2)\n",
    "    fi1 = np.deg2rad(fi1)\n",
    "    fi2 = np.deg2rad(fi2)\n",
    "    return b**2*(lam2 - lam1)/2 * ( np.sin(fi2)/(1 - e2*np.sin(fi1)**2) + (1/(2*e))*np.log((1 + e*np.sin(fi2)) / (1 - e*np.sin(fi1))) )"
   ]
  },
  {
   "cell_type": "code",
   "execution_count": 500,
   "id": "bb55fc65",
   "metadata": {},
   "outputs": [
    {
     "data": {
      "text/plain": [
       "-353319992.92925173"
      ]
     },
     "execution_count": 500,
     "metadata": {},
     "output_type": "execute_result"
    }
   ],
   "source": [
    "pole(p_srodkowy[0], p_srodkowy[1], p_sredniej_szer[0], p_sredniej_szer[1])"
   ]
  },
  {
   "cell_type": "code",
   "execution_count": null,
   "id": "e9ae3183",
   "metadata": {},
   "outputs": [],
   "source": []
  },
  {
   "cell_type": "code",
   "execution_count": null,
   "id": "9a989bd9",
   "metadata": {},
   "outputs": [],
   "source": []
  }
 ],
 "metadata": {
  "kernelspec": {
   "display_name": "wzgw-projekt1-venv",
   "language": "python",
   "name": "wzgw-projekt1-venv"
  },
  "language_info": {
   "codemirror_mode": {
    "name": "ipython",
    "version": 3
   },
   "file_extension": ".py",
   "mimetype": "text/x-python",
   "name": "python",
   "nbconvert_exporter": "python",
   "pygments_lexer": "ipython3",
   "version": "3.9.6"
  }
 },
 "nbformat": 4,
 "nbformat_minor": 5
}
