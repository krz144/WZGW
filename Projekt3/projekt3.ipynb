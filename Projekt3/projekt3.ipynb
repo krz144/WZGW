{
 "cells": [
  {
   "cell_type": "code",
   "execution_count": 102,
   "id": "d4864331",
   "metadata": {},
   "outputs": [],
   "source": [
    "import numpy as np\n",
    "# import math as m\n"
   ]
  },
  {
   "cell_type": "code",
   "execution_count": 112,
   "id": "6d260c9d",
   "metadata": {},
   "outputs": [],
   "source": [
    "def get_N(fi: float, a=6378137, e2=0.00669437999013):\n",
    "    \"\"\"fi w stopniach. Zwraca promień przekroju poprzecznego (pierwszego wertykału)\"\"\"\n",
    "    fi = np.deg2rad(fi)\n",
    "    N = a / np.sqrt(1 - e2 * np.sin(fi) ** 2)\n",
    "    return N \n",
    "\n",
    "def get_M(fi: float, a=6378137, e2=0.00669437999013):\n",
    "    \"\"\"fi w stopniach. Zwraca promień przekroju podłużnego (południkowego)\"\"\"\n",
    "    fi = np.deg2rad(fi)\n",
    "    M = (a*(1-e2)) / ( (1 - e2 * np.sin(fi) ** 2) ** 1.5 )\n",
    "    return M\n",
    "\n",
    "def get_c(fi: float, az: float, a=6378137, e2=0.00669437999013):\n",
    "    \"\"\"fi, az w stopniach. Zwraca stałą Clairuta dla linii geodezyjnej\"\"\"\n",
    "    fi = np.deg2rad(fi)\n",
    "    az = np.deg2rad(az)\n",
    "    N = get_N(fi, a, e2)\n",
    "    c = N * np.cos(fi) * np.sin(az)\n",
    "    return c\n",
    "\n",
    "def get_n_and_ds(s):\n",
    "    \"\"\"s w metrach. Zwraca ilość podziałów ortodromy n i delta s pojedynczego odc. Krotka. Useful in Kivioj's algo\"\"\"\n",
    "    # dobre ds to mniej wiecej 1km - 1.5km. Im mniejsze, tym lepsze (ale z umiarem - błędy numeryczne)\n",
    "    n_float = s/1000\n",
    "    n_int = np.ceil(n_float)\n",
    "    ds = s/n_int\n",
    "    return (n_int, ds)\n",
    "\n",
    "def kivioj(fi: float, lam: float, az: float, s, a=6378137, e2=0.00669437999013):\n",
    "    \"\"\"fi, lam, az w stopniach. s w metrach. Zwraca wsp(fi, lam) punktu oddalonego o s,  biorąc azymut pocz az.\n",
    "    wszystkie zwracane wartości w stopniach. Zwracany Azymut to przedłużenie linii geodezyjnej, a nie az odwrotny!\"\"\"\n",
    "    org_fi = np.deg2rad(fi)\n",
    "    org_lam = np.deg2rad(lam)\n",
    "    org_az = np.deg2rad(az)\n",
    "    fi = org_fi\n",
    "    lam = org_lam\n",
    "    az = org_az\n",
    "    n, ds = get_n_and_ds(s)\n",
    "    \n",
    "    # KTÓRE AZ I FI SĄ ZAWSZE POCZĄTKOWE, A KTÓRE ZMIENNE W ITERACJACH ???????????\n",
    "    for i in range(0, int(n)):  # n - 1\n",
    "        d_fi = (ds*np.cos(az)) / get_M(np.rad2deg(fi))\n",
    "        d_az = ds*np.sin(org_az)*np.tan(fi) / get_N(np.rad2deg(fi))\n",
    "        \n",
    "        sr_fi = fi + 0.5*d_fi\n",
    "        sr_az = az + 0.5*d_az\n",
    "        \n",
    "        # TUTAJ ds to nadal całe ds, czy tylko połowa ??????????\n",
    "        d_fi = (ds*np.cos(sr_az)) / get_M(np.rad2deg(sr_fi))\n",
    "        d_az = ds*np.sin(sr_az)*np.tan(sr_fi) / get_N(np.rad2deg(sr_fi))\n",
    "        d_lam = (ds*np.sin(sr_az)) / (get_N(np.rad2deg(sr_fi)) * np.cos(sr_fi))\n",
    "        \n",
    "        fi += d_fi\n",
    "        lam += d_lam\n",
    "        az += d_az\n",
    "        \n",
    "        # AZYMUT + - 180 stopni (np.pi)\n",
    "        \n",
    "    fi = np.rad2deg(fi)\n",
    "    lam = np.rad2deg(lam)\n",
    "    az = np.rad2deg(az)\n",
    "    pkt_K = (fi, lam, az)\n",
    "    return pkt_K \n"
   ]
  },
  {
   "cell_type": "code",
   "execution_count": 323,
   "id": "b01b97c7",
   "metadata": {},
   "outputs": [],
   "source": [
    "#--- IMPORT DEPENDENCIES ------------------------------------------------------+\n",
    "\n",
    "from __future__ import division\n",
    "from math import atan\n",
    "from math import atan2\n",
    "from math import cos\n",
    "from math import radians\n",
    "from math import sin\n",
    "from math import sqrt\n",
    "from math import tan\n",
    "\n",
    "#--- MAIN ---------------------------------------------------------------------+\n",
    "\n",
    "def vincenty(coord1,coord2,maxIter=200,tol=10**-12):\n",
    "\n",
    "    #--- CONSTANTS ------------------------------------+\n",
    "\n",
    "    a=6378137.0                             # radius at equator in meters (WGS-84)\n",
    "    f=1/298.257223563                       # flattening of the ellipsoid (WGS-84)\n",
    "    b=(1-f)*a\n",
    "\n",
    "    phi_1,L_1,=coord1                       # (lat=L_?,lon=phi_?)\n",
    "    phi_2,L_2,=coord2                  \n",
    "\n",
    "    u_1=atan((1-f)*tan(radians(phi_1)))\n",
    "    u_2=atan((1-f)*tan(radians(phi_2)))\n",
    "\n",
    "    L=radians(L_2-L_1)\n",
    "\n",
    "    Lambda=L                                # set initial value of lambda to L\n",
    "\n",
    "    sin_u1=sin(u_1)\n",
    "    cos_u1=cos(u_1)\n",
    "    sin_u2=sin(u_2)\n",
    "    cos_u2=cos(u_2)\n",
    "\n",
    "    #--- BEGIN ITERATIONS -----------------------------+\n",
    "    for i in range(0,maxIter):\n",
    "\n",
    "        cos_lambda=cos(Lambda)\n",
    "        sin_lambda=sin(Lambda)\n",
    "        sin_sigma=sqrt((cos_u2*sin(Lambda))**2+(cos_u1*sin_u2-sin_u1*cos_u2*cos_lambda)**2)\n",
    "        cos_sigma=sin_u1*sin_u2+cos_u1*cos_u2*cos_lambda\n",
    "        sigma=atan2(sin_sigma,cos_sigma)\n",
    "        sin_alpha=(cos_u1*cos_u2*sin_lambda)/sin_sigma\n",
    "        cos_sq_alpha=1-sin_alpha**2\n",
    "        cos2_sigma_m=cos_sigma-((2*sin_u1*sin_u2)/cos_sq_alpha)\n",
    "        C=(f/16)*cos_sq_alpha*(4+f*(4-3*cos_sq_alpha))\n",
    "        Lambda_prev=Lambda\n",
    "        Lambda=L+(1-C)*f*sin_alpha*(sigma+C*sin_sigma*(cos2_sigma_m+C*cos_sigma*(-1+2*cos2_sigma_m**2)))\n",
    "\n",
    "        # successful convergence\n",
    "        diff=abs(Lambda_prev-Lambda)\n",
    "        if diff<=tol:\n",
    "            break\n",
    "\n",
    "    u_sq=cos_sq_alpha*((a**2-b**2)/b**2)\n",
    "    A=1+(u_sq/16384)*(4096+u_sq*(-768+u_sq*(320-175*u_sq)))\n",
    "    B=(u_sq/1024)*(256+u_sq*(-128+u_sq*(74-47*u_sq)))\n",
    "    delta_sig=B*sin_sigma*(cos2_sigma_m+0.25*B*(cos_sigma*(-1+2*cos2_sigma_m**2)-(1/6)*B*cos2_sigma_m*(-3+4*sin_sigma**2)*(-3+4*cos2_sigma_m**2)))\n",
    "\n",
    "    m=b*A*(sigma-delta_sig)                 # output distance in meters    \n",
    "    \n",
    "    # a1\n",
    "    a1_num = cos_u2*sin(Lambda)\n",
    "    a1_denom = (cos_u1*sin_u2) - (sin_u1*cos_u2*cos(Lambda))\n",
    "    if (a1_num > 0 and a1_denom > 0):\n",
    "        a1 = atan(a1_num/a1_denom)\n",
    "    elif (a1_num > 0 and a1_denom<0):\n",
    "        a1 = atan(a1_num/a1_denom) + 2*np.pi\n",
    "    else:\n",
    "        a1 = atan(a1_num/a1_denom) + np.pi\n",
    "#     a1 = atan(a1_num/a1_denom)\n",
    "    \n",
    "    \n",
    "    # a2\n",
    "    a2_num = cos_u1*sin(Lambda)\n",
    "    a2_denom = (sin_u2*cos_u1*cos(Lambda)) - (cos_u2*sin_u1)\n",
    "    if (a2_num > 0 and a2_denom > 0):\n",
    "        a2 = atan(a2_num/a2_denom)\n",
    "    elif (a2_num > 0 and a2_denom<0):\n",
    "        a2 = atan(a2_num/a2_denom) + 2*np.pi\n",
    "    else:\n",
    "        a2 = atan(a2_num/a2_denom) + np.pi\n",
    "        \n",
    "    if a2<0:\n",
    "        a2 = 2*np.pi-a2\n",
    "    if a1<0:\n",
    "        a1 = 2*np.pi-a1\n",
    "    \n",
    "    a1 = np.rad2deg(a1)\n",
    "    a2 = np.rad2deg(a2)\n",
    "    return (m, a1, a2)"
   ]
  },
  {
   "cell_type": "code",
   "execution_count": 324,
   "id": "b2eb496a",
   "metadata": {},
   "outputs": [
    {
     "data": {
      "text/plain": [
       "6378137.0"
      ]
     },
     "execution_count": 324,
     "metadata": {},
     "output_type": "execute_result"
    }
   ],
   "source": [
    "get_N(0)"
   ]
  },
  {
   "cell_type": "code",
   "execution_count": 325,
   "id": "c2bfb4b8",
   "metadata": {},
   "outputs": [
    {
     "data": {
      "text/plain": [
       "6335439.327292892"
      ]
     },
     "execution_count": 325,
     "metadata": {},
     "output_type": "execute_result"
    }
   ],
   "source": [
    "get_M(0)"
   ]
  },
  {
   "cell_type": "code",
   "execution_count": 326,
   "id": "b4eb5956",
   "metadata": {},
   "outputs": [
    {
     "data": {
      "text/plain": [
       "6378137.0"
      ]
     },
     "execution_count": 326,
     "metadata": {},
     "output_type": "execute_result"
    }
   ],
   "source": [
    "get_c(0, 90)"
   ]
  },
  {
   "cell_type": "code",
   "execution_count": 327,
   "id": "2f79f4a2",
   "metadata": {},
   "outputs": [
    {
     "data": {
      "text/plain": [
       "1.3962634015954636"
      ]
     },
     "execution_count": 327,
     "metadata": {},
     "output_type": "execute_result"
    }
   ],
   "source": [
    "np.deg2rad(80)\n"
   ]
  },
  {
   "cell_type": "code",
   "execution_count": 328,
   "id": "cc81129e",
   "metadata": {},
   "outputs": [
    {
     "data": {
      "text/plain": [
       "80.0"
      ]
     },
     "execution_count": 328,
     "metadata": {},
     "output_type": "execute_result"
    }
   ],
   "source": [
    "np.rad2deg(1.3962634015954636)"
   ]
  },
  {
   "cell_type": "code",
   "execution_count": 329,
   "id": "149ecf40",
   "metadata": {},
   "outputs": [
    {
     "data": {
      "text/plain": [
       "(1.0476454796971385e-14, 169.94812602061478, 90.0)"
      ]
     },
     "execution_count": 329,
     "metadata": {},
     "output_type": "execute_result"
    }
   ],
   "source": [
    "kivioj(0, 0, 90, 18918538.849887617)"
   ]
  },
  {
   "cell_type": "code",
   "execution_count": 330,
   "id": "dc124e4b",
   "metadata": {},
   "outputs": [
    {
     "data": {
      "text/plain": [
       "(45.09684653555572, 89.86840958013579, 90.05810325055786)"
      ]
     },
     "execution_count": 330,
     "metadata": {},
     "output_type": "execute_result"
    }
   ],
   "source": [
    "kivioj(0, 0, 45, 10000000)"
   ]
  },
  {
   "cell_type": "code",
   "execution_count": null,
   "id": "4792259e",
   "metadata": {},
   "outputs": [],
   "source": [
    "\n"
   ]
  },
  {
   "cell_type": "code",
   "execution_count": 331,
   "id": "00f2492d",
   "metadata": {},
   "outputs": [
    {
     "data": {
      "text/plain": [
       "(18918538.849887617, 83.94007440533744, 275.97770841934096)"
      ]
     },
     "execution_count": 331,
     "metadata": {},
     "output_type": "execute_result"
    }
   ],
   "source": [
    "vincenty([0,0], [1, 170])"
   ]
  },
  {
   "cell_type": "code",
   "execution_count": 332,
   "id": "366fe01d",
   "metadata": {},
   "outputs": [
    {
     "data": {
      "text/plain": [
       "(10000000.007648008, 44.99933639672517, 270.0578604615721)"
      ]
     },
     "execution_count": 332,
     "metadata": {},
     "output_type": "execute_result"
    }
   ],
   "source": [
    "vincenty([0,0], [45.09684653555579, 89.86840958013579])"
   ]
  },
  {
   "cell_type": "code",
   "execution_count": 350,
   "id": "bf01914c",
   "metadata": {},
   "outputs": [
    {
     "data": {
      "text/plain": [
       "(110574.38855796008, 180.0, 180.0)"
      ]
     },
     "execution_count": 350,
     "metadata": {},
     "output_type": "execute_result"
    }
   ],
   "source": [
    "vincenty([0,0], [-1, 0])"
   ]
  },
  {
   "cell_type": "code",
   "execution_count": 342,
   "id": "3d50990f",
   "metadata": {},
   "outputs": [
    {
     "data": {
      "text/plain": [
       "(741928.3587486794, 59.32740467703917, 67.37596423902382)"
      ]
     },
     "execution_count": 342,
     "metadata": {},
     "output_type": "execute_result"
    }
   ],
   "source": [
    "vincenty([52,21], [55, 31])"
   ]
  },
  {
   "cell_type": "code",
   "execution_count": 351,
   "id": "d7f4f2a0",
   "metadata": {},
   "outputs": [
    {
     "data": {
      "text/plain": [
       "(55.00002124349137, 30.99998465709942, 67.3759525715011)"
      ]
     },
     "execution_count": 351,
     "metadata": {},
     "output_type": "execute_result"
    }
   ],
   "source": [
    "kivioj(52,21,59.32740467703917,741928.3587486794)"
   ]
  },
  {
   "cell_type": "code",
   "execution_count": null,
   "id": "c7671d5b",
   "metadata": {},
   "outputs": [],
   "source": []
  },
  {
   "cell_type": "code",
   "execution_count": null,
   "id": "3f3e8d8a",
   "metadata": {},
   "outputs": [],
   "source": []
  }
 ],
 "metadata": {
  "kernelspec": {
   "display_name": "wzgw-projekt1-venv",
   "language": "python",
   "name": "wzgw-projekt1-venv"
  },
  "language_info": {
   "codemirror_mode": {
    "name": "ipython",
    "version": 3
   },
   "file_extension": ".py",
   "mimetype": "text/x-python",
   "name": "python",
   "nbconvert_exporter": "python",
   "pygments_lexer": "ipython3",
   "version": "3.9.6"
  }
 },
 "nbformat": 4,
 "nbformat_minor": 5
}
