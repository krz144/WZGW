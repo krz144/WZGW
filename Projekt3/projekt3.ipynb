{
 "cells": [
  {
   "cell_type": "code",
   "execution_count": 135,
   "id": "d4864331",
   "metadata": {},
   "outputs": [],
   "source": [
    "import numpy as np\n",
    "from math import *"
   ]
  },
  {
   "cell_type": "code",
   "execution_count": 136,
   "id": "6d260c9d",
   "metadata": {},
   "outputs": [],
   "source": [
    "def pprintdms(wsp):\n",
    "    \"\"\"printuje/returnuje współrzędną w formacie stopnie, minuty, sekundy kątowe. Wejście to stopnie dziesiętne\"\"\"\n",
    "    d = floor(wsp)\n",
    "    m = floor((wsp-d)*60)\n",
    "    s = round((wsp-d-m/60)*3600, 5)\n",
    "#     print(f\"{d}°{m}′{s}″\")          # \n",
    "    s = '{:.5f}'.format(s)       #\n",
    "    return f\"{d}°{m}′{s}″\"\n",
    "\n",
    "def get_N(fi: float, a=6378137, e2=0.00669437999013):\n",
    "    \"\"\"fi w stopniach. Zwraca promień przekroju poprzecznego (pierwszego wertykału)\"\"\"\n",
    "    fi = np.deg2rad(fi)\n",
    "    N = a / np.sqrt(1 - e2 * np.sin(fi) ** 2)\n",
    "    return N \n",
    "\n",
    "def get_M(fi: float, a=6378137, e2=0.00669437999013):\n",
    "    \"\"\"fi w stopniach. Zwraca promień przekroju podłużnego (południkowego)\"\"\"\n",
    "    fi = np.deg2rad(fi)\n",
    "    M = (a*(1-e2)) / ( (1 - e2 * np.sin(fi) ** 2) ** 1.5 )\n",
    "    return M\n",
    "\n",
    "def get_c(fi: float, az: float, a=6378137, e2=0.00669437999013):\n",
    "    \"\"\"fi, az w stopniach. Zwraca stałą Clairuta dla linii geodezyjnej\"\"\"\n",
    "    fi = np.deg2rad(fi)\n",
    "    az = np.deg2rad(az)\n",
    "    N = get_N(fi, a, e2)\n",
    "    c = N * np.cos(fi) * np.sin(az)\n",
    "    return c\n",
    "\n",
    "def get_n_and_ds(s):\n",
    "    \"\"\"s w metrach. Zwraca ilość podziałów ortodromy n i delta s pojedynczego odc. Krotka. Useful in Kivioj's algo\"\"\"\n",
    "    # dobre ds to mniej wiecej 1km - 1.5km. Im mniejsze, tym lepsze (ale z umiarem - błędy numeryczne)\n",
    "    n_float = s/1000\n",
    "    n_int = np.ceil(n_float)\n",
    "    ds = s/n_int\n",
    "    return (n_int, ds)\n",
    "\n",
    "def kivioj(fi: float, lam: float, az: float, s, a=6378137, e2=0.00669437999013):\n",
    "    \"\"\"fi, lam, az w stopniach. s w metrach. Zwraca wsp(fi, lam) punktu oddalonego o s,  biorąc azymut pocz az.\n",
    "    wszystkie zwracane wartości w stopniach. Zwracany Azymut to przedłużenie linii geodezyjnej, a nie az odwrotny!\"\"\"\n",
    "    org_fi = np.deg2rad(fi)\n",
    "    org_lam = np.deg2rad(lam)\n",
    "    org_az = np.deg2rad(az)\n",
    "    fi = org_fi\n",
    "    lam = org_lam\n",
    "    az = org_az\n",
    "    n, ds = get_n_and_ds(s)\n",
    "    \n",
    "    # KTÓRE AZ I FI SĄ ZAWSZE POCZĄTKOWE, A KTÓRE ZMIENNE W ITERACJACH ???????????\n",
    "    for i in range(0, int(n)):  # n - 1\n",
    "        d_fi = (ds*np.cos(az)) / get_M(np.rad2deg(fi))\n",
    "        d_az = ds*np.sin(org_az)*np.tan(fi) / get_N(np.rad2deg(fi))\n",
    "        \n",
    "        sr_fi = fi + 0.5*d_fi\n",
    "        sr_az = az + 0.5*d_az\n",
    "        \n",
    "        # TUTAJ ds to nadal całe ds, czy tylko połowa ??????????\n",
    "        d_fi = (ds*np.cos(sr_az)) / get_M(np.rad2deg(sr_fi))\n",
    "        d_az = ds*np.sin(sr_az)*np.tan(sr_fi) / get_N(np.rad2deg(sr_fi))\n",
    "        d_lam = (ds*np.sin(sr_az)) / (get_N(np.rad2deg(sr_fi)) * np.cos(sr_fi))\n",
    "        \n",
    "        fi += d_fi\n",
    "        lam += d_lam\n",
    "        az += d_az\n",
    "        \n",
    "    fi = np.rad2deg(fi)\n",
    "    lam = np.rad2deg(lam)\n",
    "    az = np.rad2deg(az)\n",
    "    pkt_K = (fi, lam, az)\n",
    "    return pkt_K \n"
   ]
  },
  {
   "cell_type": "code",
   "execution_count": 137,
   "id": "b01b97c7",
   "metadata": {},
   "outputs": [],
   "source": [
    "def vincenty(coord1,coord2,maxIter=20000,tol=10**-12):\n",
    "    \"\"\"współrzędne dwóch punktów fi, lamba w stopniach. Zwriaca odległość między punktami i azymuty miedzy nimi\"\"\"\n",
    "    a=6378137.0  # GRS80\n",
    "#     f=1/298.257223563  # GRS80\n",
    "    f = 0.003352810681183637418\n",
    "    b=(1-f)*a\n",
    "    phi_1,L_1,=coord1\n",
    "    phi_2,L_2,=coord2\n",
    "\n",
    "    u_1=atan((1-f)*tan(radians(phi_1)))\n",
    "    u_2=atan((1-f)*tan(radians(phi_2)))\n",
    "\n",
    "    L=radians(L_2-L_1)\n",
    "\n",
    "    Lambda=L\n",
    "\n",
    "    sin_u1=sin(u_1)\n",
    "    cos_u1=cos(u_1)\n",
    "    sin_u2=sin(u_2)\n",
    "    cos_u2=cos(u_2)\n",
    "\n",
    "    for i in range(0,maxIter):\n",
    "\n",
    "        cos_lambda=cos(Lambda)\n",
    "        sin_lambda=sin(Lambda)\n",
    "        sin_sigma=sqrt((cos_u2*sin(Lambda))**2+(cos_u1*sin_u2-sin_u1*cos_u2*cos_lambda)**2)\n",
    "        cos_sigma=sin_u1*sin_u2+cos_u1*cos_u2*cos_lambda\n",
    "        sigma=atan2(sin_sigma,cos_sigma)\n",
    "        sin_alpha=(cos_u1*cos_u2*sin_lambda)/sin_sigma\n",
    "        cos_sq_alpha=1-sin_alpha**2\n",
    "        cos2_sigma_m=cos_sigma-((2*sin_u1*sin_u2)/cos_sq_alpha)\n",
    "        C=(f/16)*cos_sq_alpha*(4+f*(4-3*cos_sq_alpha))\n",
    "        Lambda_prev=Lambda\n",
    "        Lambda=L+(1-C)*f*sin_alpha*(sigma+C*sin_sigma*(cos2_sigma_m+C*cos_sigma*(-1+2*cos2_sigma_m**2)))\n",
    "\n",
    "        diff=abs(Lambda_prev-Lambda)\n",
    "        if diff<=tol:\n",
    "            break\n",
    "\n",
    "    u_sq=cos_sq_alpha*((a**2-b**2)/b**2)\n",
    "    A=1+(u_sq/16384)*(4096+u_sq*(-768+u_sq*(320-175*u_sq)))\n",
    "    B=(u_sq/1024)*(256+u_sq*(-128+u_sq*(74-47*u_sq)))\n",
    "    delta_sig=B*sin_sigma*(cos2_sigma_m+0.25*B*(cos_sigma*(-1+2*cos2_sigma_m**2)-(1/6)*B*cos2_sigma_m*(-3+4*sin_sigma**2)*(-3+4*cos2_sigma_m**2)))\n",
    "\n",
    "    m=b*A*(sigma-delta_sig)  # metry    \n",
    "    \n",
    "    # a1\n",
    "    a1_num = cos_u2*sin(Lambda)\n",
    "    a1_denom = (cos_u1*sin_u2) - (sin_u1*cos_u2*cos(Lambda))\n",
    "    if (a1_num > 0 and a1_denom > 0):\n",
    "        a1 = atan(a1_num/a1_denom)\n",
    "    elif (a1_num > 0 and a1_denom < 0):\n",
    "        a1 = atan(a1_num/a1_denom) + np.pi  # + 2*np.pi\n",
    "    elif (a1_num < 0 and a1_denom < 0):\n",
    "        a1 = atan(a1_num/a1_denom) + np.pi\n",
    "    else:\n",
    "        a1 = atan(a1_num/a1_denom) + 2*np.pi  # + np.pi\n",
    "#     a1 = atan(a1_num/a1_denom)\n",
    "    \n",
    "    \n",
    "    # a2\n",
    "    a2_num = cos_u1*sin(Lambda)\n",
    "    a2_denom = (sin_u2*cos_u1*cos(Lambda)) - (cos_u2*sin_u1)\n",
    "    if (a2_num > 0 and a2_denom > 0):\n",
    "        a2 = atan(a2_num/a2_denom) + np.pi\n",
    "    elif (a2_num > 0 and a2_denom < 0):\n",
    "        a2 = atan(a2_num/a2_denom) + 2*np.pi  #  + 2*np.pi\n",
    "    elif (a2_num < 0 and a2_denom < 0):\n",
    "        a2 = atan(a2_num/a2_denom) + 2*np.pi\n",
    "    else:\n",
    "        a2 = atan(a2_num/a2_denom) + 3*np.pi  # + np.pi\n",
    "        \n",
    "    \n",
    "    if a2<0:\n",
    "        a2 = 2*np.pi-a2\n",
    "    if a1<0:\n",
    "        a1 = 2*np.pi-a1\n",
    "        \n",
    "    if a2 > 2*np.pi:\n",
    "        a2 -= 2*np.pi\n",
    "    if a1 > 2*np.pi:\n",
    "        a1 -= 2*np.pi\n",
    "    \n",
    "    a1 = np.rad2deg(a1)\n",
    "    a2 = np.rad2deg(a2)\n",
    "    return (m, a1, a2)"
   ]
  },
  {
   "cell_type": "code",
   "execution_count": 138,
   "id": "b2eb496a",
   "metadata": {},
   "outputs": [],
   "source": [
    "# get_N(0)"
   ]
  },
  {
   "cell_type": "code",
   "execution_count": 139,
   "id": "c2bfb4b8",
   "metadata": {},
   "outputs": [],
   "source": [
    "# get_M(0)"
   ]
  },
  {
   "cell_type": "code",
   "execution_count": 140,
   "id": "b4eb5956",
   "metadata": {},
   "outputs": [],
   "source": [
    "# get_c(0, 90)"
   ]
  },
  {
   "cell_type": "code",
   "execution_count": 141,
   "id": "149ecf40",
   "metadata": {},
   "outputs": [],
   "source": [
    "# kivioj(0, 0, 90, 18918538.849887617)"
   ]
  },
  {
   "cell_type": "code",
   "execution_count": 142,
   "id": "dc124e4b",
   "metadata": {},
   "outputs": [],
   "source": [
    "# kivioj(0, 0, 45, 10000000)"
   ]
  },
  {
   "cell_type": "code",
   "execution_count": 143,
   "id": "00f2492d",
   "metadata": {},
   "outputs": [],
   "source": [
    "# vincenty([0,0], [1, 170])"
   ]
  },
  {
   "cell_type": "code",
   "execution_count": 144,
   "id": "366fe01d",
   "metadata": {},
   "outputs": [],
   "source": [
    "# vincenty([0,0], [45.09684653555579, 89.86840958013579])"
   ]
  },
  {
   "cell_type": "code",
   "execution_count": 145,
   "id": "bf01914c",
   "metadata": {},
   "outputs": [],
   "source": [
    "# vincenty([0,0], [-1, 0])"
   ]
  },
  {
   "cell_type": "code",
   "execution_count": 146,
   "id": "3d50990f",
   "metadata": {},
   "outputs": [],
   "source": [
    "# vincenty([52,21], [55, 31])"
   ]
  },
  {
   "cell_type": "code",
   "execution_count": 147,
   "id": "d7f4f2a0",
   "metadata": {},
   "outputs": [],
   "source": [
    "# kivioj(52,21,59.32740467703917,741928.3587486794)"
   ]
  },
  {
   "cell_type": "markdown",
   "id": "b4ca5f75",
   "metadata": {},
   "source": [
    "# Testy"
   ]
  },
  {
   "cell_type": "code",
   "execution_count": 148,
   "id": "3f3e8d8a",
   "metadata": {},
   "outputs": [],
   "source": [
    "# A = {'fi': 50.25, 'lam': 20.75}\n",
    "# D = {'fi': 50, 'lam': 21.25}\n",
    "A = [50.25, 20.75]\n",
    "D = [50, 21.25]"
   ]
  },
  {
   "cell_type": "code",
   "execution_count": 149,
   "id": "a569109b",
   "metadata": {},
   "outputs": [],
   "source": [
    "# vincenty(A, D)"
   ]
  },
  {
   "cell_type": "code",
   "execution_count": 150,
   "id": "59bae084",
   "metadata": {},
   "outputs": [],
   "source": [
    "# x = [6,6]\n",
    "# y = [10,10]\n",
    "# vincenty(x, y)"
   ]
  },
  {
   "cell_type": "markdown",
   "id": "d66d03a4",
   "metadata": {},
   "source": [
    "# Zadanie"
   ]
  },
  {
   "cell_type": "code",
   "execution_count": 151,
   "id": "e8eb37f8",
   "metadata": {},
   "outputs": [],
   "source": [
    "A = [50.25, 20.75]\n",
    "D = [50, 21.25]"
   ]
  },
  {
   "cell_type": "markdown",
   "id": "b9674332",
   "metadata": {},
   "source": [
    "## 1. Wyznaczyć punkt średniej szerokości  "
   ]
  },
  {
   "cell_type": "code",
   "execution_count": 152,
   "id": "95c50d86",
   "metadata": {},
   "outputs": [],
   "source": [
    "p_sredniej_szer = ((A[0]+D[0])/2, (A[1]+D[1])/2)"
   ]
  },
  {
   "cell_type": "code",
   "execution_count": 153,
   "id": "ff69f4c4",
   "metadata": {},
   "outputs": [
    {
     "data": {
      "text/plain": [
       "(50.125, 21.0)"
      ]
     },
     "execution_count": 153,
     "metadata": {},
     "output_type": "execute_result"
    }
   ],
   "source": [
    "p_sredniej_szer"
   ]
  },
  {
   "cell_type": "code",
   "execution_count": 154,
   "id": "f7ae91a6",
   "metadata": {},
   "outputs": [
    {
     "data": {
      "text/plain": [
       "('50°7′30.00000″', '21°0′0.00000″')"
      ]
     },
     "execution_count": 154,
     "metadata": {},
     "output_type": "execute_result"
    }
   ],
   "source": [
    "pprintdms(p_sredniej_szer[0]), pprintdms(p_sredniej_szer[1])"
   ]
  },
  {
   "cell_type": "markdown",
   "id": "73566477",
   "metadata": {},
   "source": [
    "## 2. Wyznaczyć punkt środkowy przy użyciu algorytmu Vincentego i Kivioji "
   ]
  },
  {
   "cell_type": "code",
   "execution_count": 155,
   "id": "e914635c",
   "metadata": {},
   "outputs": [],
   "source": [
    "odl_AD, az_AD, az_DA = vincenty(A, D)"
   ]
  },
  {
   "cell_type": "code",
   "execution_count": 156,
   "id": "03779d17",
   "metadata": {},
   "outputs": [
    {
     "data": {
      "text/plain": [
       "(45295.37417148556, 127.68147015656345)"
      ]
     },
     "execution_count": 156,
     "metadata": {},
     "output_type": "execute_result"
    }
   ],
   "source": [
    "odl_AD, az_AD"
   ]
  },
  {
   "cell_type": "code",
   "execution_count": 157,
   "id": "47967cd8",
   "metadata": {},
   "outputs": [
    {
     "data": {
      "text/plain": [
       "(45295.374, '127°40′53.29256″')"
      ]
     },
     "execution_count": 157,
     "metadata": {},
     "output_type": "execute_result"
    }
   ],
   "source": [
    "round(odl_AD, 3), pprintdms(az_AD)"
   ]
  },
  {
   "cell_type": "code",
   "execution_count": 158,
   "id": "f8f4fa63",
   "metadata": {},
   "outputs": [],
   "source": [
    "p_srodkowy = kivioj(fi=A[0], lam=A[1], s=odl_AD/2, az=az_AD)[:2]"
   ]
  },
  {
   "cell_type": "code",
   "execution_count": 159,
   "id": "d5daebf5",
   "metadata": {},
   "outputs": [
    {
     "data": {
      "text/plain": [
       "(50.125270434405216, 21.000651071143853)"
      ]
     },
     "execution_count": 159,
     "metadata": {},
     "output_type": "execute_result"
    }
   ],
   "source": [
    "p_srodkowy"
   ]
  },
  {
   "cell_type": "code",
   "execution_count": 160,
   "id": "71170c6b",
   "metadata": {},
   "outputs": [
    {
     "data": {
      "text/plain": [
       "('50°7′30.97356″', '21°0′2.34386″')"
      ]
     },
     "execution_count": 160,
     "metadata": {},
     "output_type": "execute_result"
    }
   ],
   "source": [
    "pprintdms(p_srodkowy[0]), pprintdms(p_srodkowy[1])"
   ]
  },
  {
   "cell_type": "markdown",
   "id": "c74151ff",
   "metadata": {},
   "source": [
    "## 3. Wyznaczyć różnicę odległości pomiędzy tymi punktami "
   ]
  },
  {
   "cell_type": "code",
   "execution_count": 161,
   "id": "e8549bcc",
   "metadata": {},
   "outputs": [],
   "source": [
    "odl, az1, az2 = vincenty(p_sredniej_szer, p_srodkowy)"
   ]
  },
  {
   "cell_type": "code",
   "execution_count": 162,
   "id": "b6231537",
   "metadata": {},
   "outputs": [
    {
     "data": {
      "text/plain": [
       "55.42996503560072"
      ]
     },
     "execution_count": 162,
     "metadata": {},
     "output_type": "execute_result"
    }
   ],
   "source": [
    "odl"
   ]
  },
  {
   "cell_type": "code",
   "execution_count": 163,
   "id": "d6bbcff9",
   "metadata": {},
   "outputs": [
    {
     "data": {
      "text/plain": [
       "55.43"
      ]
     },
     "execution_count": 163,
     "metadata": {},
     "output_type": "execute_result"
    }
   ],
   "source": [
    "round(odl, 3)"
   ]
  },
  {
   "cell_type": "code",
   "execution_count": 164,
   "id": "7ce09e27",
   "metadata": {},
   "outputs": [
    {
     "data": {
      "text/plain": [
       "'55.430'"
      ]
     },
     "execution_count": 164,
     "metadata": {},
     "output_type": "execute_result"
    }
   ],
   "source": [
    "'{:.3f}'.format(round(odl, 3))"
   ]
  },
  {
   "cell_type": "markdown",
   "id": "64bacd70",
   "metadata": {},
   "source": [
    "## 4. Wyznaczyć azymuty w tych punktach."
   ]
  },
  {
   "cell_type": "code",
   "execution_count": 165,
   "id": "30362c78",
   "metadata": {},
   "outputs": [
    {
     "data": {
      "text/plain": [
       "(57.133381378788236, 237.13388104114014)"
      ]
     },
     "execution_count": 165,
     "metadata": {},
     "output_type": "execute_result"
    }
   ],
   "source": [
    "az1, az2"
   ]
  },
  {
   "cell_type": "code",
   "execution_count": 166,
   "id": "f8c26d47",
   "metadata": {},
   "outputs": [
    {
     "data": {
      "text/plain": [
       "('57°8′0.17296″', '237°8′1.97175″')"
      ]
     },
     "execution_count": 166,
     "metadata": {},
     "output_type": "execute_result"
    }
   ],
   "source": [
    "pprintdms(az1), pprintdms(az2)"
   ]
  },
  {
   "cell_type": "markdown",
   "id": "b7f03bfd",
   "metadata": {},
   "source": [
    "## 5. Obliczyć pole powierzchni tego czworokąta wedle wzoru:\n",
    "<br />\n",
    "<img src=\"wzor_pole.png\" width=400 height=400 />"
   ]
  },
  {
   "cell_type": "code",
   "execution_count": 167,
   "id": "379d01ee",
   "metadata": {},
   "outputs": [],
   "source": [
    "def pole_czworokata(fi1, lam1, fi2, lam2, e2=0.00669437999013, a=6378137):  # , b=6356752.314140347\n",
    "    \"\"\"podajemy dwa narożniki siatki, dostajemy pole w metrach. pole na elipsoidzie.\"\"\"\n",
    "    b = a * (1 - e2)**0.5\n",
    "    e = np.sqrt(e2)\n",
    "    lam1 = np.deg2rad(lam1)\n",
    "    lam2 = np.deg2rad(lam2)\n",
    "    fi1 = np.deg2rad(fi1)\n",
    "    fi2 = np.deg2rad(fi2)\n",
    "    return abs(b**2*(lam2 - lam1)/2 *  (  ( np.sin(fi2)/(1 - e2*np.sin(fi2)**2) + (1/(2*e))*np.log((1 + e*np.sin(fi2)) / (1 - e*np.sin(fi2))) )  -  ( np.sin(fi1)/(1 - e2*np.sin(fi1)**2) + (1/(2*e))*np.log((1 + e*np.sin(fi1)) / (1 - e*np.sin(fi1))) )  ))"
   ]
  },
  {
   "cell_type": "code",
   "execution_count": 168,
   "id": "b51b6f8a",
   "metadata": {},
   "outputs": [],
   "source": [
    "# pole_czworokata(p_srodkowy[0], p_srodkowy[1], p_sredniej_szer[0], p_sredniej_szer[1])\n",
    "# pole w m^2\n",
    "pole = pole_czworokata(A[0],A[1],D[0],D[1])"
   ]
  },
  {
   "cell_type": "code",
   "execution_count": 169,
   "id": "582acf53",
   "metadata": {},
   "outputs": [
    {
     "data": {
      "text/plain": [
       "994265196.0743111"
      ]
     },
     "execution_count": 169,
     "metadata": {},
     "output_type": "execute_result"
    }
   ],
   "source": [
    "pole"
   ]
  },
  {
   "cell_type": "code",
   "execution_count": 170,
   "id": "b1db213a",
   "metadata": {},
   "outputs": [
    {
     "data": {
      "text/plain": [
       "994265196.074311"
      ]
     },
     "execution_count": 170,
     "metadata": {},
     "output_type": "execute_result"
    }
   ],
   "source": [
    "round(pole, 6)"
   ]
  },
  {
   "cell_type": "code",
   "execution_count": 171,
   "id": "950a3fe0",
   "metadata": {},
   "outputs": [],
   "source": [
    "# pole w km^2\n",
    "# round(pole, 6)/1000000"
   ]
  }
 ],
 "metadata": {
  "kernelspec": {
   "display_name": "wzgw-projekt1-venv",
   "language": "python",
   "name": "wzgw-projekt1-venv"
  },
  "language_info": {
   "codemirror_mode": {
    "name": "ipython",
    "version": 3
   },
   "file_extension": ".py",
   "mimetype": "text/x-python",
   "name": "python",
   "nbconvert_exporter": "python",
   "pygments_lexer": "ipython3",
   "version": "3.9.6"
  }
 },
 "nbformat": 4,
 "nbformat_minor": 5
}
