{
 "cells": [
  {
   "cell_type": "code",
   "execution_count": 584,
   "id": "c53eb1d3",
   "metadata": {},
   "outputs": [],
   "source": [
    "import numpy as np\n",
    "import pandas as pd\n",
    "import itertools\n",
    "from shapely.geometry import Polygon\n",
    "import math"
   ]
  },
  {
   "cell_type": "code",
   "execution_count": 585,
   "id": "adb75b38",
   "metadata": {},
   "outputs": [],
   "source": [
    "# to_gk git\n",
    "# to_1992 git\n",
    "# to_2000 git\n",
    "# pola git\n",
    "# \n",
    "# gk_to_geo, gk_to_geo2 git\n",
    "# get_mgk, get_mgk2 git\n",
    "# \n",
    "# skale, pola git"
   ]
  },
  {
   "cell_type": "markdown",
   "id": "af06fddf",
   "metadata": {},
   "source": [
    "## Funkcje"
   ]
  },
  {
   "cell_type": "code",
   "execution_count": 586,
   "id": "3e07cc9c",
   "metadata": {},
   "outputs": [],
   "source": [
    "def to_gk(fi, lam, lam_zero, a=6378137, e2=0.00669437999013):\n",
    "    \"\"\"przelicza współrzędne fi, lambda danej elipsoidy na x,y Gaussa-Krugera (w metrach), lam_zero to południk osiowy.\n",
    "    fi, lam, lam_zero podajemy w stopniach.\"\"\"\n",
    "    a2 = a*a\n",
    "    b2 = a2*(1 - e2)\n",
    "    eprim2 = (a2 - b2) / b2 \n",
    "    fi = np.deg2rad(fi)\n",
    "    lam = np.deg2rad(lam)\n",
    "    lam_zero = np.deg2rad(lam_zero)\n",
    "    t = np.tan(fi)\n",
    "    eta2 = eprim2 * (np.cos(fi))**2\n",
    "    l = lam - lam_zero\n",
    "    N = a / np.sqrt(1 - e2 * np.sin(fi) ** 2)\n",
    "    A0 = 1 - (e2/4) - (3*(e2**2)/64) - (5*(e2**3)/256)\n",
    "    A2 = (3/8) * (e2 + ((e2**2)/4) + (15*(e2**3))/128)\n",
    "    A4 = (15/256) * (e2**2 + 3*(e2**3)/4)\n",
    "    A6 = 35*(e2**3)/3072\n",
    "    sigma = a * ( A0*fi - A2*np.sin(2*fi) + A4*np.sin(4*fi) - A6*np.sin(6*fi) )\n",
    "    xgk = sigma + ((l**2)/2)*N*np.sin(fi)*np.cos(fi)* ( 1 + ((l**2)/12)*(np.cos(fi)**2)*(5-t**2+9*eta2+4*(eta2**2)) + ((l**4)/360)*(np.cos(fi)**4)*(61-58*t**2+t**4+270*eta2-330*eta2*t**2) )\n",
    "    ygk = l*N*np.cos(fi)* ( 1 + ((l**2)/6)*(np.cos(fi)**2)*(1-t**2+eta2) + ((l**4)/120)*(np.cos(fi)**4)*(5-18*t**2+t**4+14*eta2-58*eta2*t**2) )\n",
    "    return xgk, ygk"
   ]
  },
  {
   "cell_type": "code",
   "execution_count": 587,
   "id": "d458eb76",
   "metadata": {},
   "outputs": [],
   "source": [
    "def to_1992(fi, lam):\n",
    "    \"\"\"przelicza fi, lam w stopniach na układ 1992 (x,y w metrach). Końcowe współrzędne mają 6 cyfr w 1992.\"\"\"\n",
    "    # m0_92 - skala długości na południku osiowym 19 stopni\n",
    "    m0_92 = 0.9993\n",
    "    xgk, ygk = to_gk(fi, lam, 19)\n",
    "    # cechowanie współrzędnych\n",
    "    x92 = m0_92*xgk - 5_300_000\n",
    "    y92 = m0_92*ygk + 500_000\n",
    "    return x92, y92"
   ]
  },
  {
   "cell_type": "code",
   "execution_count": 588,
   "id": "6aa61cfd",
   "metadata": {},
   "outputs": [],
   "source": [
    "def to_2000(fi, lam):\n",
    "    \"\"\"przelicza fi, lam w stopniach na układ 2000 (x,y w metrach). Końcowe współrzędne mają 7 cyfr w 2000.\n",
    "    Są cztery strefy odwzorowawcze. południki osiowe 15, 18, 21, 24. Pasy oznaczone numerami: 5, 6, 7, 8.\n",
    "    m0 południka osiowego każdego pasa wynosi 0.999923.\"\"\"\n",
    "    if abs(lam-15) <= 1.5:\n",
    "        osiowy = 15\n",
    "    elif abs(lam-18) <= 1.5:\n",
    "        osiowy = 18\n",
    "    elif abs(lam-21) <= 1.5:\n",
    "        osiowy = 21\n",
    "    elif abs(lam-24) <= 1.5:\n",
    "        osiowy = 24\n",
    "        \n",
    "    m0_2000 = 0.999923\n",
    "    nr_strefy = osiowy/3\n",
    "    xgk, ygk = to_gk(fi, lam, osiowy)\n",
    "    x2000 = m0_2000 * xgk\n",
    "    y2000 = m0_2000 * ygk + nr_strefy*1_000_000 + 500_000\n",
    "    # f\"{round(x2000, 3):.3f}\"\n",
    "    return x2000, y2000"
   ]
  },
  {
   "cell_type": "code",
   "execution_count": 589,
   "id": "42a33cd9",
   "metadata": {},
   "outputs": [],
   "source": [
    "def pole_czworokata(fi1, lam1, fi2, lam2, e2=0.00669437999013, a=6378137):  # , b=6356752.314140347\n",
    "    \"\"\"podajemy dwa narożniki siatki, dostajemy pole w metrach. pole na elipsoidzie.\"\"\"\n",
    "    b = a * (1 - e2)**0.5\n",
    "    e = np.sqrt(e2)\n",
    "    lam1 = np.deg2rad(lam1)\n",
    "    lam2 = np.deg2rad(lam2)\n",
    "    fi1 = np.deg2rad(fi1)\n",
    "    fi2 = np.deg2rad(fi2)\n",
    "    return abs(b**2*(lam2 - lam1)/2 *  (  ( np.sin(fi2)/(1 - e2*np.sin(fi2)**2) + (1/(2*e))*np.log((1 + e*np.sin(fi2)) / (1 - e*np.sin(fi2))) )  -  ( np.sin(fi1)/(1 - e2*np.sin(fi1)**2) + (1/(2*e))*np.log((1 + e*np.sin(fi1)) / (1 - e*np.sin(fi1))) )  ))"
   ]
  },
  {
   "cell_type": "code",
   "execution_count": 590,
   "id": "92f1da7f",
   "metadata": {},
   "outputs": [],
   "source": [
    "def pole_poligonu(lista_punktow):\n",
    "    \"\"\"Podajemy punkty kolejno. 'Rysujemy granice poligonu'. Działamy na płaszczyźnie.\"\"\"\n",
    "    return Polygon(lista_punktow).area"
   ]
  },
  {
   "cell_type": "code",
   "execution_count": 591,
   "id": "9b9bc4a2",
   "metadata": {},
   "outputs": [],
   "source": [
    "def gk_to_geo(xgk, ygk, lam_zero, a=6378137, e2=0.00669437999013):\n",
    "    \"\"\"przliecza wsp w układzie gaussa krugera(metry) na geodezyjne(stopnie). lam_zero to południk osiowy(stopnie).\n",
    "    Wzory z pdfa jakiegos\"\"\"\n",
    "    A0 = 1 - (e2/4) - (3*(e2**2)/64) - (5*(e2**3)/256)\n",
    "    A2 = (3/8) * (e2 + ((e2**2)/4) + (15*(e2**3))/128)\n",
    "    A4 = (15/256) * (e2**2 + 3*(e2**3)/4)\n",
    "    A6 = 35*(e2**3)/3072\n",
    "    epsilon = 0.00001/3600  # epsilon w stopniach dziesiętnych\n",
    "    epsilon = np.deg2rad(epsilon) # epsilon w radianach\n",
    "\n",
    "    fi = xgk/(a*A0)\n",
    "    sigma = a * ( A0*fi - A2*np.sin(2*fi) + A4*np.sin(4*fi) - A6*np.sin(6*fi) )\n",
    "    while True:\n",
    "        fi_stare = fi\n",
    "        fi = fi + (xgk-sigma)/(a*A0)\n",
    "        if abs(fi-fi_stare) < epsilon/3600:\n",
    "            break\n",
    "        sigma = a * ( A0*fi - A2*np.sin(2*fi) + A4*np.sin(4*fi) - A6*np.sin(6*fi) )\n",
    "\n",
    "    t = np.tan(fi)\n",
    "    a2 = a*a\n",
    "    b2 = a2*(1 - e2)\n",
    "    eprim2 = (a2 - b2) / b2\n",
    "    eta2 = eprim2 * (np.cos(fi))**2\n",
    "    N = a / np.sqrt(1 - e2 * np.sin(fi) ** 2)\n",
    "    M = (a*(1-e2)) / ( (1 - e2 * np.sin(fi) ** 2) ** 1.5 )\n",
    "    \n",
    "    fi_g = fi - ((ygk**2)*t/(2*M*N)) * ( 1 - (ygk**2/(12*N**2))*(5+3*t**2+eta2-9*eta2*t**2-4*eta2**2) + (ygk**4/(360*N**4))*(61+90*t**2+45*t**4) )\n",
    "    lam_g = np.deg2rad(lam_zero) + (ygk/(N*np.cos(fi))) * ( 1 - (ygk**2/(6*N**2))*(1+2*t**2+eta2) + (ygk**4/(120*N**4))*(5+28*t**2+24*t**4+6*eta2+8*eta2*t**2) )\n",
    "    return np.rad2deg(fi_g), np.rad2deg(lam_g)\n",
    "    "
   ]
  },
  {
   "cell_type": "code",
   "execution_count": 592,
   "id": "8b8dce76",
   "metadata": {},
   "outputs": [],
   "source": [
    "def gk_to_geo2(xgk, ygk, lam_zero, a=6378137, e2=0.00669437999013, m0=1):\n",
    "    \"\"\"przliecza wsp w układzie gaussa krugera(metry) na geodezyjne(stopnie). lam_zero to południk osiowy(stopnie).\n",
    "    Wzory z one nota.\"\"\"\n",
    "    a2 = a*a\n",
    "    b2 = a2*(1 - e2)\n",
    "    eprim2 = (a2 - b2) / b2\n",
    "    A0 = 1 - (e2/4) - (3*(e2**2)/64) - (5*(e2**3)/256)\n",
    "    A2 = (3/8) * (e2 + ((e2**2)/4) + (15*(e2**3))/128)\n",
    "    A4 = (15/256) * (e2**2 + 3*(e2**3)/4)\n",
    "    A6 = 35*(e2**3)/3072\n",
    "    B_pop = xgk/(a*A0*m0)\n",
    "    B = xgk/(a*A0*m0) + A2*np.sin(2*B_pop)/A0 - A4*np.sin(4*B_pop)/A0 + A6*np.sin(6*B_pop)/A0\n",
    "    while abs(B-B_pop) > np.deg2rad(0.00001/3600):\n",
    "        B_pop = B\n",
    "        B = xgk/(a*A0*m0) + A2*np.sin(2*B_pop)/A0 - A4*np.sin(4*B_pop)/A0 + A6*np.sin(6*B_pop)/A0\n",
    "    # B jest w radianach\n",
    "    \n",
    "    t = np.tan(B)\n",
    "    eta2 = eprim2*np.cos(B)**2\n",
    "    N = a / np.sqrt(1 - e2 * np.sin(B) ** 2)\n",
    "    \n",
    "    # B jest w radianach\n",
    "    fi = B - (t/2) * ( ((ygk/(m0*N))**2)*(1+eta2) - (1/12)*((ygk/(m0*N))**4)*(5+3*(t**2)+6*eta2-6*eta2*(t**2)-3*(eta2**2)-9*(t**2)*(eta2**2)) + (1/360)*((ygk/(m0*N))**6)*(61+90*(t**2)+45*(t**4)+107*eta2-162*(t**2)*eta2-45*(t**4)*eta2) )\n",
    "    l = (1/np.cos(B)) * ( ygk/(m0*N) - (1/6)*((ygk/(m0*N))**3)*(1+2*(t**2)+eta2) + (1/120)*((ygk/(m0*N))**5)*(5+28*(t**2)+24*(t**4)+6*eta2+8*eta2*(t**2)) )\n",
    "    fi = np.rad2deg(fi)\n",
    "    lam = lam_zero + np.rad2deg(l)\n",
    "    return fi, lam\n"
   ]
  },
  {
   "cell_type": "code",
   "execution_count": 593,
   "id": "78ba0213",
   "metadata": {},
   "outputs": [],
   "source": [
    "def get_mgk(fi, ygk, a=6378137, e2=0.00669437999013):\n",
    "    \"\"\"elementarna skala długości dla odwzorowania Gaussa-Krugera. one note\n",
    "    fi, by policzyć N, M i R. ygk do wzoru.\"\"\"\n",
    "    fi = np.deg2rad(fi)\n",
    "    N = a / np.sqrt(1 - e2 * np.sin(fi) ** 2)\n",
    "    M = (a*(1-e2)) / ( (1 - e2 * np.sin(fi) ** 2) ** 1.5 )\n",
    "    R = math.sqrt(M*N)\n",
    "    mgk = 1 + ((ygk**2)/(2*(R**2))) + ((ygk**4)/(24*(R**4)))\n",
    "    return mgk"
   ]
  },
  {
   "cell_type": "code",
   "execution_count": 594,
   "id": "6a807110",
   "metadata": {},
   "outputs": [],
   "source": [
    "def get_mgk2(fi, lam, lam_zero, a=6378137, e2=0.00669437999013):\n",
    "    \"\"\"elementarna skala długości dla odwzorowania Gaussa-Krugera. one note wersja 2.\n",
    "    fi i lambdy w stopniach (wsp geo)\"\"\"\n",
    "    a2 = a*a\n",
    "    b2 = a2*(1 - e2)\n",
    "    eprim2 = (a2 - b2) / b2 \n",
    "    fi = np.deg2rad(fi)\n",
    "    lam = np.deg2rad(lam)\n",
    "    lam_zero = np.deg2rad(lam_zero)\n",
    "    t = np.tan(fi)\n",
    "    eta2 = eprim2 * (np.cos(fi))**2\n",
    "    l = lam - lam_zero\n",
    "    mgk = 1 + ((l**2)/2)*(np.cos(fi)**2)*(1+eta2) + ((l**4)/24)*(np.cos(fi)**4)*(5-4*t**2)\n",
    "    return mgk"
   ]
  },
  {
   "cell_type": "code",
   "execution_count": 595,
   "id": "95856fd9",
   "metadata": {},
   "outputs": [],
   "source": [
    "def from_1992_to_geo(x92, y92, a=6378137, e2=0.00669437999013):\n",
    "    \"\"\"przelicza x, y w układzie 1992 (x,y w metrach) na wsp geodezyjne.\"\"\"\n",
    "    # m0_92 - skala długości na południku osiowym 19 stopni\n",
    "    m0_92 = 0.9993\n",
    "#     x92 = m0_92*xgk - 5_300_000\n",
    "#     y92 = m0_92*ygk + 500_000\n",
    "    xgk = (x92 + 5_300_000)/m0_92\n",
    "    ygk = (y92 - 500_000)/m0_92\n",
    "    return gk_to_geo(xgk, ygk, 19, a, e2)\n",
    "#     return gk_to_geo2(xgk, ygk, lam_zero=19)"
   ]
  },
  {
   "cell_type": "code",
   "execution_count": 596,
   "id": "946f456b",
   "metadata": {},
   "outputs": [],
   "source": [
    "def from_2000_to_geo(x20, y20, a=6378137, e2=0.00669437999013):\n",
    "    \"\"\"przelicza x,y  w układzie 2000 na wsp geodezyjne.\"\"\"\n",
    "    # m0_2000 - skala długości na południku osiowym\n",
    "    m0_2000 = 0.999923\n",
    "    nr_strefy = int(str(y20)[0])  # pierwsza cyfra wsp y to nr strefy \n",
    "    \n",
    "#     x2000 = m0_2000 * xgk\n",
    "#     y2000 = m0_2000 * ygk + nr_strefy*1_000_000 + 500_000\n",
    "    \n",
    "    xgk = x20/m0_2000\n",
    "    ygk = (y20 - nr_strefy*1_000_000 - 500_000)/m0_2000\n",
    "    return gk_to_geo(xgk, ygk, nr_strefy*3, a, e2)"
   ]
  },
  {
   "cell_type": "code",
   "execution_count": 597,
   "id": "42f741ca",
   "metadata": {},
   "outputs": [],
   "source": [
    "def get_m92(x_92, y_92):\n",
    "    \"\"\"zwraca skalę długości w układzie wsp 2000, wejście to współrzędne x, y w układzie 1992.\"\"\"\n",
    "    m0_92 = 0.9993\n",
    "    fi, lam = from_1992_to_geo(x_92, y_92)\n",
    "    lam_zero = 19\n",
    "    mgk = get_mgk2(fi, lam, lam_zero)\n",
    "    return mgk*m0_92"
   ]
  },
  {
   "cell_type": "code",
   "execution_count": 598,
   "id": "58544964",
   "metadata": {},
   "outputs": [],
   "source": [
    "def get_m2000(x_2000, y_2000):\n",
    "    \"\"\"zwraca skalę długości w układzie wsp 2000, wejście to współrzędne x, y w układzie 2000.\"\"\"\n",
    "    m0_2000 = 0.999923\n",
    "    fi, lam = from_2000_to_geo(x_2000, y_2000)\n",
    "    lam_zero = int(str(y_2000)[0])*3\n",
    "    mgk = get_mgk2(fi, lam, lam_zero)\n",
    "    return mgk*m0_2000"
   ]
  },
  {
   "cell_type": "code",
   "execution_count": 599,
   "id": "95656257",
   "metadata": {},
   "outputs": [],
   "source": [
    "# zniekształcenia (w cm na 1km) w Excelu\n",
    "# tabelka z wynikami też w Excelu"
   ]
  },
  {
   "cell_type": "markdown",
   "id": "944bac79",
   "metadata": {},
   "source": [
    "# /////////////////////////////////////////////////////////////////////////////////////////////////////////////////////////////////"
   ]
  },
  {
   "cell_type": "markdown",
   "id": "c1712f3f",
   "metadata": {},
   "source": [
    "## Testy"
   ]
  },
  {
   "cell_type": "code",
   "execution_count": 600,
   "id": "17f62687",
   "metadata": {},
   "outputs": [],
   "source": [
    "x = 5556698.103\n",
    "y = 143059.986\n",
    "f = gk_to_geo(x, y, 19)[0]\n",
    "la = gk_to_geo(x, y, 19)[1]"
   ]
  },
  {
   "cell_type": "code",
   "execution_count": 601,
   "id": "292ef42f",
   "metadata": {},
   "outputs": [
    {
     "data": {
      "text/plain": [
       "1.0002512595034179"
      ]
     },
     "execution_count": 601,
     "metadata": {},
     "output_type": "execute_result"
    }
   ],
   "source": [
    "get_mgk(f, y)"
   ]
  },
  {
   "cell_type": "code",
   "execution_count": 602,
   "id": "a1296734",
   "metadata": {},
   "outputs": [
    {
     "data": {
      "text/plain": [
       "1.000251259400469"
      ]
     },
     "execution_count": 602,
     "metadata": {},
     "output_type": "execute_result"
    }
   ],
   "source": [
    "get_mgk2(f, la, 19)"
   ]
  },
  {
   "cell_type": "code",
   "execution_count": 603,
   "id": "6bce64c6",
   "metadata": {},
   "outputs": [],
   "source": [
    "xgk = 5570120.597\n",
    "ygk = 124812.228\n",
    "\n",
    "x92 = 266221.513\n",
    "y92 = 624724.859\n",
    "\n",
    "x20 = 5568256.030\n",
    "y20 = 7482170.562\n"
   ]
  },
  {
   "cell_type": "code",
   "execution_count": 604,
   "id": "83a5a9d3",
   "metadata": {},
   "outputs": [
    {
     "data": {
      "text/plain": [
       "(5570120.596980791, 124812.22773608562)"
      ]
     },
     "execution_count": 604,
     "metadata": {},
     "output_type": "execute_result"
    }
   ],
   "source": [
    "to_gk(50.25, 20.75, 19)"
   ]
  },
  {
   "cell_type": "code",
   "execution_count": 605,
   "id": "ec8879a5",
   "metadata": {},
   "outputs": [
    {
     "data": {
      "text/plain": [
       "(50.250000003955606, 20.74999999778748)"
      ]
     },
     "execution_count": 605,
     "metadata": {},
     "output_type": "execute_result"
    }
   ],
   "source": [
    "from_1992_to_geo(266221.513, 624724.859)"
   ]
  },
  {
   "cell_type": "code",
   "execution_count": 606,
   "id": "41249486",
   "metadata": {},
   "outputs": [
    {
     "data": {
      "text/plain": [
       "(50.249999999939845, 20.74999999358122)"
      ]
     },
     "execution_count": 606,
     "metadata": {},
     "output_type": "execute_result"
    }
   ],
   "source": [
    "from_2000_to_geo(5568256.030, 7482170.562)"
   ]
  },
  {
   "cell_type": "code",
   "execution_count": 607,
   "id": "d0a148e6",
   "metadata": {},
   "outputs": [
    {
     "data": {
      "text/plain": [
       "0.9994911081961155"
      ]
     },
     "execution_count": 607,
     "metadata": {},
     "output_type": "execute_result"
    }
   ],
   "source": [
    "get_m92(266221.513, 624724.859)"
   ]
  },
  {
   "cell_type": "code",
   "execution_count": 608,
   "id": "cbff436f",
   "metadata": {},
   "outputs": [
    {
     "data": {
      "text/plain": [
       "0.9999269026938475"
      ]
     },
     "execution_count": 608,
     "metadata": {},
     "output_type": "execute_result"
    }
   ],
   "source": [
    "get_m2000(5568256.030, 7482170.562)"
   ]
  },
  {
   "cell_type": "code",
   "execution_count": 609,
   "id": "a5ace711",
   "metadata": {},
   "outputs": [
    {
     "data": {
      "text/plain": [
       "(5543273.892000523, 161308.28340695688)"
      ]
     },
     "execution_count": 609,
     "metadata": {},
     "output_type": "execute_result"
    }
   ],
   "source": [
    "to_gk(50, 21.25, 19)"
   ]
  },
  {
   "cell_type": "code",
   "execution_count": 610,
   "id": "27ff2f48",
   "metadata": {},
   "outputs": [
    {
     "data": {
      "text/plain": [
       "(49.99999999995417, 21.25000000069796)"
      ]
     },
     "execution_count": 610,
     "metadata": {},
     "output_type": "execute_result"
    }
   ],
   "source": [
    "gk_to_geo(5543273.892000523, 161308.28340695688, 19)"
   ]
  },
  {
   "cell_type": "code",
   "execution_count": 611,
   "id": "a7ca8cb4",
   "metadata": {},
   "outputs": [
    {
     "data": {
      "text/plain": [
       "(49.999999999987956, 21.250000000697955)"
      ]
     },
     "execution_count": 611,
     "metadata": {},
     "output_type": "execute_result"
    }
   ],
   "source": [
    "gk_to_geo2(5543273.892000523, 161308.28340695688, 19)"
   ]
  },
  {
   "cell_type": "code",
   "execution_count": 612,
   "id": "191d79af",
   "metadata": {},
   "outputs": [
    {
     "data": {
      "text/plain": [
       "0.9999999999999999"
      ]
     },
     "execution_count": 612,
     "metadata": {},
     "output_type": "execute_result"
    }
   ],
   "source": [
    "np.tan(np.deg2rad(45))"
   ]
  },
  {
   "cell_type": "code",
   "execution_count": 613,
   "id": "2fdbfcb4",
   "metadata": {},
   "outputs": [],
   "source": [
    "A = [50.25, 20.75]\n",
    "B = [50, 20.75]\n",
    "C = [50.25, 21.25]\n",
    "D = [50, 21.25]\n",
    "sr_szer = [50.125, 21]\n",
    "srodkowy = [50.1252704344052, 21.0006510711438]"
   ]
  },
  {
   "cell_type": "code",
   "execution_count": 614,
   "id": "313ecdcd",
   "metadata": {},
   "outputs": [
    {
     "data": {
      "text/plain": [
       "(5543273.892000523, 161308.28340695688)"
      ]
     },
     "execution_count": 614,
     "metadata": {},
     "output_type": "execute_result"
    }
   ],
   "source": [
    "to_gk(D[0], D[1], 19)"
   ]
  },
  {
   "cell_type": "code",
   "execution_count": 615,
   "id": "4fb8d279",
   "metadata": {},
   "outputs": [
    {
     "data": {
      "text/plain": [
       "(239393.6002761228, 661195.367608572)"
      ]
     },
     "execution_count": 615,
     "metadata": {},
     "output_type": "execute_result"
    }
   ],
   "source": [
    "to_1992(D[0], D[1])"
   ]
  },
  {
   "cell_type": "code",
   "execution_count": 616,
   "id": "d887771f",
   "metadata": {},
   "outputs": [
    {
     "data": {
      "text/plain": [
       "(5540450.350009964, 7517922.548450623)"
      ]
     },
     "execution_count": 616,
     "metadata": {},
     "output_type": "execute_result"
    }
   ],
   "source": [
    "to_2000(D[0], D[1])"
   ]
  },
  {
   "cell_type": "code",
   "execution_count": 617,
   "id": "00a43fc3",
   "metadata": {},
   "outputs": [
    {
     "data": {
      "text/plain": [
       "994265196.0743111"
      ]
     },
     "execution_count": 617,
     "metadata": {},
     "output_type": "execute_result"
    }
   ],
   "source": [
    "pole_czworokata(A[0],A[1],D[0],D[1])"
   ]
  },
  {
   "cell_type": "code",
   "execution_count": 618,
   "id": "ec6b930b",
   "metadata": {},
   "outputs": [
    {
     "data": {
      "text/plain": [
       "0.125"
      ]
     },
     "execution_count": 618,
     "metadata": {},
     "output_type": "execute_result"
    }
   ],
   "source": [
    "pole_poligonu([A,B,D,C])"
   ]
  },
  {
   "cell_type": "markdown",
   "id": "53609106",
   "metadata": {},
   "source": [
    "# /////////////////////////////////////////////////////////////////////////////////////////////////////////////////////////////////"
   ]
  },
  {
   "cell_type": "markdown",
   "id": "d001ddb7",
   "metadata": {},
   "source": [
    "## Zestawienie współrzędnych"
   ]
  },
  {
   "cell_type": "code",
   "execution_count": 619,
   "id": "1420efd5",
   "metadata": {},
   "outputs": [],
   "source": [
    "main_df = pd.read_csv('dane.csv', sep=';')"
   ]
  },
  {
   "cell_type": "code",
   "execution_count": 620,
   "id": "f7344700",
   "metadata": {},
   "outputs": [],
   "source": [
    "main_df['Xgk'] = main_df.apply(lambda row: to_gk(row[0], row[1], 19)[0], axis=1)\n",
    "main_df['Ygk'] = main_df.apply(lambda row: to_gk(row[0], row[1], 19)[1], axis=1)\n",
    "main_df['X1992'] = main_df.apply(lambda row: to_1992(row[0], row[1])[0], axis=1)\n",
    "main_df['Y1992'] = main_df.apply(lambda row: to_1992(row[0], row[1])[1], axis=1)\n",
    "main_df['X2000'] = main_df.apply(lambda row: to_2000(row[0], row[1])[0], axis=1)\n",
    "main_df['Y2000'] = main_df.apply(lambda row: to_2000(row[0], row[1])[1], axis=1)"
   ]
  },
  {
   "cell_type": "code",
   "execution_count": 621,
   "id": "66fbfab8",
   "metadata": {},
   "outputs": [
    {
     "data": {
      "text/html": [
       "<div>\n",
       "<style scoped>\n",
       "    .dataframe tbody tr th:only-of-type {\n",
       "        vertical-align: middle;\n",
       "    }\n",
       "\n",
       "    .dataframe tbody tr th {\n",
       "        vertical-align: top;\n",
       "    }\n",
       "\n",
       "    .dataframe thead th {\n",
       "        text-align: right;\n",
       "    }\n",
       "</style>\n",
       "<table border=\"1\" class=\"dataframe\">\n",
       "  <thead>\n",
       "    <tr style=\"text-align: right;\">\n",
       "      <th></th>\n",
       "      <th>fi</th>\n",
       "      <th>lam</th>\n",
       "      <th>Xgk</th>\n",
       "      <th>Ygk</th>\n",
       "      <th>X1992</th>\n",
       "      <th>Y1992</th>\n",
       "      <th>X2000</th>\n",
       "      <th>Y2000</th>\n",
       "    </tr>\n",
       "  </thead>\n",
       "  <tbody>\n",
       "    <tr>\n",
       "      <th>0</th>\n",
       "      <td>50.25000</td>\n",
       "      <td>20.750000</td>\n",
       "      <td>5.570121e+06</td>\n",
       "      <td>124812.227736</td>\n",
       "      <td>266221.512563</td>\n",
       "      <td>624724.859177</td>\n",
       "      <td>5.568256e+06</td>\n",
       "      <td>7.482171e+06</td>\n",
       "    </tr>\n",
       "    <tr>\n",
       "      <th>1</th>\n",
       "      <td>50.00000</td>\n",
       "      <td>20.750000</td>\n",
       "      <td>5.542315e+06</td>\n",
       "      <td>125464.200846</td>\n",
       "      <td>238435.404992</td>\n",
       "      <td>625376.375906</td>\n",
       "      <td>5.540450e+06</td>\n",
       "      <td>7.482077e+06</td>\n",
       "    </tr>\n",
       "    <tr>\n",
       "      <th>2</th>\n",
       "      <td>50.25000</td>\n",
       "      <td>21.250000</td>\n",
       "      <td>5.571078e+06</td>\n",
       "      <td>160469.906665</td>\n",
       "      <td>267178.205642</td>\n",
       "      <td>660357.577730</td>\n",
       "      <td>5.568256e+06</td>\n",
       "      <td>7.517829e+06</td>\n",
       "    </tr>\n",
       "    <tr>\n",
       "      <th>3</th>\n",
       "      <td>50.00000</td>\n",
       "      <td>21.250000</td>\n",
       "      <td>5.543274e+06</td>\n",
       "      <td>161308.283407</td>\n",
       "      <td>239393.600276</td>\n",
       "      <td>661195.367609</td>\n",
       "      <td>5.540450e+06</td>\n",
       "      <td>7.517923e+06</td>\n",
       "    </tr>\n",
       "    <tr>\n",
       "      <th>4</th>\n",
       "      <td>50.12500</td>\n",
       "      <td>21.000000</td>\n",
       "      <td>5.556667e+06</td>\n",
       "      <td>143014.239309</td>\n",
       "      <td>252777.110759</td>\n",
       "      <td>642914.129342</td>\n",
       "      <td>5.554323e+06</td>\n",
       "      <td>7.500000e+06</td>\n",
       "    </tr>\n",
       "    <tr>\n",
       "      <th>5</th>\n",
       "      <td>50.12527</td>\n",
       "      <td>21.000651</td>\n",
       "      <td>5.556698e+06</td>\n",
       "      <td>143059.985842</td>\n",
       "      <td>252808.414212</td>\n",
       "      <td>642959.843852</td>\n",
       "      <td>5.554353e+06</td>\n",
       "      <td>7.500047e+06</td>\n",
       "    </tr>\n",
       "  </tbody>\n",
       "</table>\n",
       "</div>"
      ],
      "text/plain": [
       "         fi        lam           Xgk            Ygk          X1992  \\\n",
       "0  50.25000  20.750000  5.570121e+06  124812.227736  266221.512563   \n",
       "1  50.00000  20.750000  5.542315e+06  125464.200846  238435.404992   \n",
       "2  50.25000  21.250000  5.571078e+06  160469.906665  267178.205642   \n",
       "3  50.00000  21.250000  5.543274e+06  161308.283407  239393.600276   \n",
       "4  50.12500  21.000000  5.556667e+06  143014.239309  252777.110759   \n",
       "5  50.12527  21.000651  5.556698e+06  143059.985842  252808.414212   \n",
       "\n",
       "           Y1992         X2000         Y2000  \n",
       "0  624724.859177  5.568256e+06  7.482171e+06  \n",
       "1  625376.375906  5.540450e+06  7.482077e+06  \n",
       "2  660357.577730  5.568256e+06  7.517829e+06  \n",
       "3  661195.367609  5.540450e+06  7.517923e+06  \n",
       "4  642914.129342  5.554323e+06  7.500000e+06  \n",
       "5  642959.843852  5.554353e+06  7.500047e+06  "
      ]
     },
     "execution_count": 621,
     "metadata": {},
     "output_type": "execute_result"
    }
   ],
   "source": [
    "main_df"
   ]
  },
  {
   "cell_type": "code",
   "execution_count": 622,
   "id": "33c399b9",
   "metadata": {},
   "outputs": [
    {
     "data": {
      "text/html": [
       "<style type=\"text/css\">\n",
       "</style>\n",
       "<table id=\"T_553b8_\">\n",
       "  <thead>\n",
       "    <tr>\n",
       "      <th class=\"blank level0\" >&nbsp;</th>\n",
       "      <th class=\"col_heading level0 col0\" >Xgk</th>\n",
       "      <th class=\"col_heading level0 col1\" >Ygk</th>\n",
       "      <th class=\"col_heading level0 col2\" >X1992</th>\n",
       "      <th class=\"col_heading level0 col3\" >Y1992</th>\n",
       "      <th class=\"col_heading level0 col4\" >X2000</th>\n",
       "      <th class=\"col_heading level0 col5\" >Y2000</th>\n",
       "    </tr>\n",
       "  </thead>\n",
       "  <tbody>\n",
       "    <tr>\n",
       "      <th id=\"T_553b8_level0_row0\" class=\"row_heading level0 row0\" >0</th>\n",
       "      <td id=\"T_553b8_row0_col0\" class=\"data row0 col0\" >5570120.597</td>\n",
       "      <td id=\"T_553b8_row0_col1\" class=\"data row0 col1\" >124812.228</td>\n",
       "      <td id=\"T_553b8_row0_col2\" class=\"data row0 col2\" >266221.513</td>\n",
       "      <td id=\"T_553b8_row0_col3\" class=\"data row0 col3\" >624724.859</td>\n",
       "      <td id=\"T_553b8_row0_col4\" class=\"data row0 col4\" >5568256.030</td>\n",
       "      <td id=\"T_553b8_row0_col5\" class=\"data row0 col5\" >7482170.562</td>\n",
       "    </tr>\n",
       "    <tr>\n",
       "      <th id=\"T_553b8_level0_row1\" class=\"row_heading level0 row1\" >1</th>\n",
       "      <td id=\"T_553b8_row1_col0\" class=\"data row1 col0\" >5542315.026</td>\n",
       "      <td id=\"T_553b8_row1_col1\" class=\"data row1 col1\" >125464.201</td>\n",
       "      <td id=\"T_553b8_row1_col2\" class=\"data row1 col2\" >238435.405</td>\n",
       "      <td id=\"T_553b8_row1_col3\" class=\"data row1 col3\" >625376.376</td>\n",
       "      <td id=\"T_553b8_row1_col4\" class=\"data row1 col4\" >5540450.350</td>\n",
       "      <td id=\"T_553b8_row1_col5\" class=\"data row1 col5\" >7482077.452</td>\n",
       "    </tr>\n",
       "    <tr>\n",
       "      <th id=\"T_553b8_level0_row2\" class=\"row_heading level0 row2\" >2</th>\n",
       "      <td id=\"T_553b8_row2_col0\" class=\"data row2 col0\" >5571077.960</td>\n",
       "      <td id=\"T_553b8_row2_col1\" class=\"data row2 col1\" >160469.907</td>\n",
       "      <td id=\"T_553b8_row2_col2\" class=\"data row2 col2\" >267178.206</td>\n",
       "      <td id=\"T_553b8_row2_col3\" class=\"data row2 col3\" >660357.578</td>\n",
       "      <td id=\"T_553b8_row2_col4\" class=\"data row2 col4\" >5568256.030</td>\n",
       "      <td id=\"T_553b8_row2_col5\" class=\"data row2 col5\" >7517829.438</td>\n",
       "    </tr>\n",
       "    <tr>\n",
       "      <th id=\"T_553b8_level0_row3\" class=\"row_heading level0 row3\" >3</th>\n",
       "      <td id=\"T_553b8_row3_col0\" class=\"data row3 col0\" >5543273.892</td>\n",
       "      <td id=\"T_553b8_row3_col1\" class=\"data row3 col1\" >161308.283</td>\n",
       "      <td id=\"T_553b8_row3_col2\" class=\"data row3 col2\" >239393.600</td>\n",
       "      <td id=\"T_553b8_row3_col3\" class=\"data row3 col3\" >661195.368</td>\n",
       "      <td id=\"T_553b8_row3_col4\" class=\"data row3 col4\" >5540450.350</td>\n",
       "      <td id=\"T_553b8_row3_col5\" class=\"data row3 col5\" >7517922.548</td>\n",
       "    </tr>\n",
       "    <tr>\n",
       "      <th id=\"T_553b8_level0_row4\" class=\"row_heading level0 row4\" >4</th>\n",
       "      <td id=\"T_553b8_row4_col0\" class=\"data row4 col0\" >5556666.778</td>\n",
       "      <td id=\"T_553b8_row4_col1\" class=\"data row4 col1\" >143014.239</td>\n",
       "      <td id=\"T_553b8_row4_col2\" class=\"data row4 col2\" >252777.111</td>\n",
       "      <td id=\"T_553b8_row4_col3\" class=\"data row4 col3\" >642914.129</td>\n",
       "      <td id=\"T_553b8_row4_col4\" class=\"data row4 col4\" >5554323.110</td>\n",
       "      <td id=\"T_553b8_row4_col5\" class=\"data row4 col5\" >7500000.000</td>\n",
       "    </tr>\n",
       "    <tr>\n",
       "      <th id=\"T_553b8_level0_row5\" class=\"row_heading level0 row5\" >5</th>\n",
       "      <td id=\"T_553b8_row5_col0\" class=\"data row5 col0\" >5556698.103</td>\n",
       "      <td id=\"T_553b8_row5_col1\" class=\"data row5 col1\" >143059.986</td>\n",
       "      <td id=\"T_553b8_row5_col2\" class=\"data row5 col2\" >252808.414</td>\n",
       "      <td id=\"T_553b8_row5_col3\" class=\"data row5 col3\" >642959.844</td>\n",
       "      <td id=\"T_553b8_row5_col4\" class=\"data row5 col4\" >5554353.189</td>\n",
       "      <td id=\"T_553b8_row5_col5\" class=\"data row5 col5\" >7500046.554</td>\n",
       "    </tr>\n",
       "  </tbody>\n",
       "</table>\n"
      ],
      "text/plain": [
       "<pandas.io.formats.style.Styler at 0x85996bd490>"
      ]
     },
     "execution_count": 622,
     "metadata": {},
     "output_type": "execute_result"
    }
   ],
   "source": [
    "ad1_df = main_df.drop(['fi', 'lam'], axis=1)\n",
    "ad1_df.style.format('{:.3f}')"
   ]
  },
  {
   "cell_type": "markdown",
   "id": "69802f37",
   "metadata": {},
   "source": [
    "## Zestawienie pól powierzchni"
   ]
  },
  {
   "cell_type": "code",
   "execution_count": 623,
   "id": "99738062",
   "metadata": {},
   "outputs": [],
   "source": [
    "A = [50.25, 20.75]\n",
    "B = [50, 20.75]\n",
    "C = [50.25, 21.25]\n",
    "D = [50, 21.25]\n",
    "sr_szer = [50.125, 21]\n",
    "srodkowy = [50.1252704344052, 21.0006510711438]\n",
    "AGK = to_gk(A[0], A[1], 19)\n",
    "BGK = to_gk(B[0], B[1], 19)\n",
    "CGK = to_gk(C[0], C[1], 19)\n",
    "DGK = to_gk(D[0], D[1], 19)\n",
    "A92 = to_1992(A[0], A[1])\n",
    "B92 = to_1992(B[0], B[1])\n",
    "C92 = to_1992(C[0], C[1])\n",
    "D92 = to_1992(D[0], D[1])\n",
    "A20 = to_2000(A[0], A[1])\n",
    "B20 = to_2000(B[0], B[1])\n",
    "C20 = to_2000(C[0], C[1])\n",
    "D20 = to_2000(D[0], D[1])"
   ]
  },
  {
   "cell_type": "code",
   "execution_count": 624,
   "id": "7453ade4",
   "metadata": {},
   "outputs": [],
   "source": [
    "pola_df = pd.DataFrame()\n",
    "pola_df['P_elip'] = [pole_czworokata(A[0],A[1],D[0],D[1])]\n",
    "pola_df['P_GK'] = [pole_poligonu([AGK, BGK, DGK, CGK])]\n",
    "pola_df['P_1992'] = [pole_poligonu([A92, B92, D92, C92])]\n",
    "pola_df['P_2000'] = [pole_poligonu([A20, B20, D20, C20])]"
   ]
  },
  {
   "cell_type": "code",
   "execution_count": 625,
   "id": "d0b90f38",
   "metadata": {},
   "outputs": [
    {
     "data": {
      "text/html": [
       "<div>\n",
       "<style scoped>\n",
       "    .dataframe tbody tr th:only-of-type {\n",
       "        vertical-align: middle;\n",
       "    }\n",
       "\n",
       "    .dataframe tbody tr th {\n",
       "        vertical-align: top;\n",
       "    }\n",
       "\n",
       "    .dataframe thead th {\n",
       "        text-align: right;\n",
       "    }\n",
       "</style>\n",
       "<table border=\"1\" class=\"dataframe\">\n",
       "  <thead>\n",
       "    <tr style=\"text-align: right;\">\n",
       "      <th></th>\n",
       "      <th>P_elip</th>\n",
       "      <th>P_GK</th>\n",
       "      <th>P_1992</th>\n",
       "      <th>P_2000</th>\n",
       "    </tr>\n",
       "  </thead>\n",
       "  <tbody>\n",
       "    <tr>\n",
       "      <th>0</th>\n",
       "      <td>9.942652e+08</td>\n",
       "      <td>9.947608e+08</td>\n",
       "      <td>9.933686e+08</td>\n",
       "      <td>9.941083e+08</td>\n",
       "    </tr>\n",
       "  </tbody>\n",
       "</table>\n",
       "</div>"
      ],
      "text/plain": [
       "         P_elip          P_GK        P_1992        P_2000\n",
       "0  9.942652e+08  9.947608e+08  9.933686e+08  9.941083e+08"
      ]
     },
     "execution_count": 625,
     "metadata": {},
     "output_type": "execute_result"
    }
   ],
   "source": [
    "pola_df  # pola w m^2"
   ]
  },
  {
   "cell_type": "code",
   "execution_count": 626,
   "id": "49d7715e",
   "metadata": {},
   "outputs": [
    {
     "data": {
      "text/html": [
       "<style type=\"text/css\">\n",
       "</style>\n",
       "<table id=\"T_20183_\">\n",
       "  <thead>\n",
       "    <tr>\n",
       "      <th class=\"blank level0\" >&nbsp;</th>\n",
       "      <th class=\"col_heading level0 col0\" >P_elip</th>\n",
       "      <th class=\"col_heading level0 col1\" >P_GK</th>\n",
       "      <th class=\"col_heading level0 col2\" >P_1992</th>\n",
       "      <th class=\"col_heading level0 col3\" >P_2000</th>\n",
       "    </tr>\n",
       "  </thead>\n",
       "  <tbody>\n",
       "    <tr>\n",
       "      <th id=\"T_20183_level0_row0\" class=\"row_heading level0 row0\" >0</th>\n",
       "      <td id=\"T_20183_row0_col0\" class=\"data row0 col0\" >994265196.074311</td>\n",
       "      <td id=\"T_20183_row0_col1\" class=\"data row0 col1\" >994760761.493312</td>\n",
       "      <td id=\"T_20183_row0_col2\" class=\"data row0 col2\" >993368583.859984</td>\n",
       "      <td id=\"T_20183_row0_col3\" class=\"data row0 col3\" >994108281.708822</td>\n",
       "    </tr>\n",
       "  </tbody>\n",
       "</table>\n"
      ],
      "text/plain": [
       "<pandas.io.formats.style.Styler at 0x8599687af0>"
      ]
     },
     "execution_count": 626,
     "metadata": {},
     "output_type": "execute_result"
    }
   ],
   "source": [
    "ad2_df = pola_df.style.format('{:.6f}')\n",
    "ad2_df"
   ]
  },
  {
   "cell_type": "markdown",
   "id": "95a82848",
   "metadata": {},
   "source": [
    "## Zestawienie skal i zniekształceń długości"
   ]
  },
  {
   "cell_type": "code",
   "execution_count": 627,
   "id": "5c548cd1",
   "metadata": {},
   "outputs": [
    {
     "data": {
      "text/html": [
       "<div>\n",
       "<style scoped>\n",
       "    .dataframe tbody tr th:only-of-type {\n",
       "        vertical-align: middle;\n",
       "    }\n",
       "\n",
       "    .dataframe tbody tr th {\n",
       "        vertical-align: top;\n",
       "    }\n",
       "\n",
       "    .dataframe thead th {\n",
       "        text-align: right;\n",
       "    }\n",
       "</style>\n",
       "<table border=\"1\" class=\"dataframe\">\n",
       "  <thead>\n",
       "    <tr style=\"text-align: right;\">\n",
       "      <th></th>\n",
       "      <th>Xgk</th>\n",
       "      <th>Ygk</th>\n",
       "      <th>X1992</th>\n",
       "      <th>Y1992</th>\n",
       "      <th>X2000</th>\n",
       "      <th>Y2000</th>\n",
       "    </tr>\n",
       "  </thead>\n",
       "  <tbody>\n",
       "    <tr>\n",
       "      <th>0</th>\n",
       "      <td>5570120.597</td>\n",
       "      <td>124812.228</td>\n",
       "      <td>266221.513</td>\n",
       "      <td>624724.859</td>\n",
       "      <td>5568256.030</td>\n",
       "      <td>7482170.562</td>\n",
       "    </tr>\n",
       "    <tr>\n",
       "      <th>1</th>\n",
       "      <td>5542315.026</td>\n",
       "      <td>125464.201</td>\n",
       "      <td>238435.405</td>\n",
       "      <td>625376.376</td>\n",
       "      <td>5540450.350</td>\n",
       "      <td>7482077.452</td>\n",
       "    </tr>\n",
       "    <tr>\n",
       "      <th>2</th>\n",
       "      <td>5571077.960</td>\n",
       "      <td>160469.907</td>\n",
       "      <td>267178.206</td>\n",
       "      <td>660357.578</td>\n",
       "      <td>5568256.030</td>\n",
       "      <td>7517829.438</td>\n",
       "    </tr>\n",
       "    <tr>\n",
       "      <th>3</th>\n",
       "      <td>5543273.892</td>\n",
       "      <td>161308.283</td>\n",
       "      <td>239393.600</td>\n",
       "      <td>661195.368</td>\n",
       "      <td>5540450.350</td>\n",
       "      <td>7517922.548</td>\n",
       "    </tr>\n",
       "    <tr>\n",
       "      <th>4</th>\n",
       "      <td>5556666.778</td>\n",
       "      <td>143014.239</td>\n",
       "      <td>252777.111</td>\n",
       "      <td>642914.129</td>\n",
       "      <td>5554323.110</td>\n",
       "      <td>7500000.000</td>\n",
       "    </tr>\n",
       "    <tr>\n",
       "      <th>5</th>\n",
       "      <td>5556698.103</td>\n",
       "      <td>143059.986</td>\n",
       "      <td>252808.414</td>\n",
       "      <td>642959.844</td>\n",
       "      <td>5554353.189</td>\n",
       "      <td>7500046.554</td>\n",
       "    </tr>\n",
       "  </tbody>\n",
       "</table>\n",
       "</div>"
      ],
      "text/plain": [
       "           Xgk         Ygk       X1992       Y1992        X2000        Y2000\n",
       "0  5570120.597  124812.228  266221.513  624724.859  5568256.030  7482170.562\n",
       "1  5542315.026  125464.201  238435.405  625376.376  5540450.350  7482077.452\n",
       "2  5571077.960  160469.907  267178.206  660357.578  5568256.030  7517829.438\n",
       "3  5543273.892  161308.283  239393.600  661195.368  5540450.350  7517922.548\n",
       "4  5556666.778  143014.239  252777.111  642914.129  5554323.110  7500000.000\n",
       "5  5556698.103  143059.986  252808.414  642959.844  5554353.189  7500046.554"
      ]
     },
     "execution_count": 627,
     "metadata": {},
     "output_type": "execute_result"
    }
   ],
   "source": [
    "skale_df = pd.read_csv('skale.csv', sep=';')\n",
    "skale_df"
   ]
  },
  {
   "cell_type": "code",
   "execution_count": 628,
   "id": "194847ae",
   "metadata": {},
   "outputs": [],
   "source": [
    "# Z - zniekształcenie w [cm/km]. Ogólny wzór: Z = 1 - m_ukladu\n",
    "skale_df['m_1992'] = skale_df.apply(lambda row: get_m92(row[2], row[3]), axis=1)\n",
    "skale_df['Z_1992'] = skale_df.apply(lambda row: round((row[-1] - 1)*100000, 1), axis=1)\n",
    "skale_df['m_2000'] = skale_df.apply(lambda row: get_m2000(row[4], row[5]), axis=1)\n",
    "skale_df['Z_2000'] = skale_df.apply(lambda row: round((row[-1] - 1)*100000, 1), axis=1)\n",
    "skale_df['m_gk'] = skale_df.apply(lambda row: get_mgk2(*gk_to_geo(row[0], row[1], int(str(row[1])[0])*3), int(str(row[1])[0])*3), axis=1)\n",
    "skale_df['Z_gk'] = skale_df.apply(lambda row: round((row[-1] - 1)*100000, 1), axis=1)"
   ]
  },
  {
   "cell_type": "code",
   "execution_count": 629,
   "id": "91b3eb26",
   "metadata": {},
   "outputs": [],
   "source": [
    "skale_df.drop(columns=['Xgk', 'Ygk','X1992','Y1992','X2000','Y2000'], inplace=True)"
   ]
  },
  {
   "cell_type": "code",
   "execution_count": 630,
   "id": "8fe3dc0f",
   "metadata": {},
   "outputs": [
    {
     "data": {
      "text/html": [
       "<div>\n",
       "<style scoped>\n",
       "    .dataframe tbody tr th:only-of-type {\n",
       "        vertical-align: middle;\n",
       "    }\n",
       "\n",
       "    .dataframe tbody tr th {\n",
       "        vertical-align: top;\n",
       "    }\n",
       "\n",
       "    .dataframe thead th {\n",
       "        text-align: right;\n",
       "    }\n",
       "</style>\n",
       "<table border=\"1\" class=\"dataframe\">\n",
       "  <thead>\n",
       "    <tr style=\"text-align: right;\">\n",
       "      <th></th>\n",
       "      <th>m_1992</th>\n",
       "      <th>Z_1992</th>\n",
       "      <th>m_2000</th>\n",
       "      <th>Z_2000</th>\n",
       "      <th>m_gk</th>\n",
       "      <th>Z_gk</th>\n",
       "    </tr>\n",
       "  </thead>\n",
       "  <tbody>\n",
       "    <tr>\n",
       "      <th>0</th>\n",
       "      <td>0.999491</td>\n",
       "      <td>-50.9</td>\n",
       "      <td>0.999927</td>\n",
       "      <td>-7.3</td>\n",
       "      <td>1.000191</td>\n",
       "      <td>19.1</td>\n",
       "    </tr>\n",
       "    <tr>\n",
       "      <th>1</th>\n",
       "      <td>0.999493</td>\n",
       "      <td>-50.7</td>\n",
       "      <td>0.999927</td>\n",
       "      <td>-7.3</td>\n",
       "      <td>1.000193</td>\n",
       "      <td>19.3</td>\n",
       "    </tr>\n",
       "    <tr>\n",
       "      <th>2</th>\n",
       "      <td>0.999616</td>\n",
       "      <td>-38.4</td>\n",
       "      <td>0.999927</td>\n",
       "      <td>-7.3</td>\n",
       "      <td>1.000316</td>\n",
       "      <td>31.6</td>\n",
       "    </tr>\n",
       "    <tr>\n",
       "      <th>3</th>\n",
       "      <td>0.999619</td>\n",
       "      <td>-38.1</td>\n",
       "      <td>0.999927</td>\n",
       "      <td>-7.3</td>\n",
       "      <td>1.000319</td>\n",
       "      <td>31.9</td>\n",
       "    </tr>\n",
       "    <tr>\n",
       "      <th>4</th>\n",
       "      <td>0.999551</td>\n",
       "      <td>-44.9</td>\n",
       "      <td>0.999923</td>\n",
       "      <td>-7.7</td>\n",
       "      <td>1.000251</td>\n",
       "      <td>25.1</td>\n",
       "    </tr>\n",
       "    <tr>\n",
       "      <th>5</th>\n",
       "      <td>0.999551</td>\n",
       "      <td>-44.9</td>\n",
       "      <td>0.999923</td>\n",
       "      <td>-7.7</td>\n",
       "      <td>1.000251</td>\n",
       "      <td>25.1</td>\n",
       "    </tr>\n",
       "  </tbody>\n",
       "</table>\n",
       "</div>"
      ],
      "text/plain": [
       "     m_1992  Z_1992    m_2000  Z_2000      m_gk  Z_gk\n",
       "0  0.999491   -50.9  0.999927    -7.3  1.000191  19.1\n",
       "1  0.999493   -50.7  0.999927    -7.3  1.000193  19.3\n",
       "2  0.999616   -38.4  0.999927    -7.3  1.000316  31.6\n",
       "3  0.999619   -38.1  0.999927    -7.3  1.000319  31.9\n",
       "4  0.999551   -44.9  0.999923    -7.7  1.000251  25.1\n",
       "5  0.999551   -44.9  0.999923    -7.7  1.000251  25.1"
      ]
     },
     "execution_count": 630,
     "metadata": {},
     "output_type": "execute_result"
    }
   ],
   "source": [
    "skale_df"
   ]
  },
  {
   "cell_type": "markdown",
   "id": "8a286be5",
   "metadata": {},
   "source": [
    "## Zestawienie skal i zniekształceń pól powierzchni"
   ]
  },
  {
   "cell_type": "code",
   "execution_count": 631,
   "id": "30bbc99a",
   "metadata": {},
   "outputs": [],
   "source": [
    "# Z^2 - zniekształcenie pola w [m^2/ha].\n",
    "skale_df['m_1992^2'] = skale_df['m_1992']**2\n",
    "skale_df['Z_1992^2'] = round((skale_df['m_1992^2'] - 1)*10000, 6)\n",
    "skale_df['m_2000^2'] = skale_df['m_2000']**2\n",
    "skale_df['Z_2000^2'] = round((skale_df['m_2000^2'] - 1)*10000, 6)\n",
    "skale_df['m_gk^2'] = skale_df['m_gk']**2\n",
    "skale_df['Z_gk^2'] = round((skale_df['m_gk^2'] - 1)*10000, 6)"
   ]
  },
  {
   "cell_type": "code",
   "execution_count": 632,
   "id": "f08d45aa",
   "metadata": {},
   "outputs": [],
   "source": [
    "skale_df.drop(columns=['m_1992','Z_1992','m_2000','Z_2000','m_gk','Z_gk'], inplace=True)"
   ]
  },
  {
   "cell_type": "code",
   "execution_count": 633,
   "id": "16b05c25",
   "metadata": {},
   "outputs": [
    {
     "data": {
      "text/html": [
       "<div>\n",
       "<style scoped>\n",
       "    .dataframe tbody tr th:only-of-type {\n",
       "        vertical-align: middle;\n",
       "    }\n",
       "\n",
       "    .dataframe tbody tr th {\n",
       "        vertical-align: top;\n",
       "    }\n",
       "\n",
       "    .dataframe thead th {\n",
       "        text-align: right;\n",
       "    }\n",
       "</style>\n",
       "<table border=\"1\" class=\"dataframe\">\n",
       "  <thead>\n",
       "    <tr style=\"text-align: right;\">\n",
       "      <th></th>\n",
       "      <th>m_1992^2</th>\n",
       "      <th>Z_1992^2</th>\n",
       "      <th>m_2000^2</th>\n",
       "      <th>Z_2000^2</th>\n",
       "      <th>m_gk^2</th>\n",
       "      <th>Z_gk^2</th>\n",
       "    </tr>\n",
       "  </thead>\n",
       "  <tbody>\n",
       "    <tr>\n",
       "      <th>0</th>\n",
       "      <td>0.998982</td>\n",
       "      <td>-10.175246</td>\n",
       "      <td>0.999854</td>\n",
       "      <td>-1.461893</td>\n",
       "      <td>1.000383</td>\n",
       "      <td>3.825207</td>\n",
       "    </tr>\n",
       "    <tr>\n",
       "      <th>1</th>\n",
       "      <td>0.998986</td>\n",
       "      <td>-10.135007</td>\n",
       "      <td>0.999854</td>\n",
       "      <td>-1.461071</td>\n",
       "      <td>1.000387</td>\n",
       "      <td>3.865503</td>\n",
       "    </tr>\n",
       "    <tr>\n",
       "      <th>2</th>\n",
       "      <td>0.999232</td>\n",
       "      <td>-7.680356</td>\n",
       "      <td>0.999854</td>\n",
       "      <td>-1.461893</td>\n",
       "      <td>1.000632</td>\n",
       "      <td>6.323594</td>\n",
       "    </tr>\n",
       "    <tr>\n",
       "      <th>3</th>\n",
       "      <td>0.999239</td>\n",
       "      <td>-7.613819</td>\n",
       "      <td>0.999854</td>\n",
       "      <td>-1.461071</td>\n",
       "      <td>1.000639</td>\n",
       "      <td>6.390225</td>\n",
       "    </tr>\n",
       "    <tr>\n",
       "      <th>4</th>\n",
       "      <td>0.999102</td>\n",
       "      <td>-8.979524</td>\n",
       "      <td>0.999846</td>\n",
       "      <td>-1.539941</td>\n",
       "      <td>1.000502</td>\n",
       "      <td>5.022605</td>\n",
       "    </tr>\n",
       "    <tr>\n",
       "      <th>5</th>\n",
       "      <td>0.999102</td>\n",
       "      <td>-8.976314</td>\n",
       "      <td>0.999846</td>\n",
       "      <td>-1.539940</td>\n",
       "      <td>1.000503</td>\n",
       "      <td>5.025819</td>\n",
       "    </tr>\n",
       "  </tbody>\n",
       "</table>\n",
       "</div>"
      ],
      "text/plain": [
       "   m_1992^2   Z_1992^2  m_2000^2  Z_2000^2    m_gk^2    Z_gk^2\n",
       "0  0.998982 -10.175246  0.999854 -1.461893  1.000383  3.825207\n",
       "1  0.998986 -10.135007  0.999854 -1.461071  1.000387  3.865503\n",
       "2  0.999232  -7.680356  0.999854 -1.461893  1.000632  6.323594\n",
       "3  0.999239  -7.613819  0.999854 -1.461071  1.000639  6.390225\n",
       "4  0.999102  -8.979524  0.999846 -1.539941  1.000502  5.022605\n",
       "5  0.999102  -8.976314  0.999846 -1.539940  1.000503  5.025819"
      ]
     },
     "execution_count": 633,
     "metadata": {},
     "output_type": "execute_result"
    }
   ],
   "source": [
    "skale_df"
   ]
  },
  {
   "cell_type": "code",
   "execution_count": null,
   "id": "c2228e7c",
   "metadata": {},
   "outputs": [],
   "source": []
  }
 ],
 "metadata": {
  "kernelspec": {
   "display_name": "wzgw-projekt1-venv",
   "language": "python",
   "name": "wzgw-projekt1-venv"
  },
  "language_info": {
   "codemirror_mode": {
    "name": "ipython",
    "version": 3
   },
   "file_extension": ".py",
   "mimetype": "text/x-python",
   "name": "python",
   "nbconvert_exporter": "python",
   "pygments_lexer": "ipython3",
   "version": "3.9.6"
  }
 },
 "nbformat": 4,
 "nbformat_minor": 5
}
